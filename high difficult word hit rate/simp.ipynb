{
 "cells": [
  {
   "cell_type": "code",
   "execution_count": 1,
   "id": "7541b5b1-5afd-47e9-90a8-4dd5927436d7",
   "metadata": {},
   "outputs": [
    {
     "name": "stderr",
     "output_type": "stream",
     "text": [
      "2025-05-16 17:55:52.909091: I tensorflow/core/util/port.cc:153] oneDNN custom operations are on. You may see slightly different numerical results due to floating-point round-off errors from different computation orders. To turn them off, set the environment variable `TF_ENABLE_ONEDNN_OPTS=0`.\n",
      "2025-05-16 17:55:52.928457: E external/local_xla/xla/stream_executor/cuda/cuda_fft.cc:485] Unable to register cuFFT factory: Attempting to register factory for plugin cuFFT when one has already been registered\n",
      "2025-05-16 17:55:52.950469: E external/local_xla/xla/stream_executor/cuda/cuda_dnn.cc:8454] Unable to register cuDNN factory: Attempting to register factory for plugin cuDNN when one has already been registered\n",
      "2025-05-16 17:55:52.956939: E external/local_xla/xla/stream_executor/cuda/cuda_blas.cc:1452] Unable to register cuBLAS factory: Attempting to register factory for plugin cuBLAS when one has already been registered\n",
      "2025-05-16 17:55:52.975129: I tensorflow/core/platform/cpu_feature_guard.cc:210] This TensorFlow binary is optimized to use available CPU instructions in performance-critical operations.\n",
      "To enable the following instructions: AVX2 AVX512F AVX512_VNNI AVX512_BF16 AVX512_FP16 AVX_VNNI AMX_TILE AMX_INT8 AMX_BF16 FMA, in other operations, rebuild TensorFlow with the appropriate compiler flags.\n",
      "2025-05-16 17:55:54.045202: W tensorflow/compiler/tf2tensorrt/utils/py_utils.cc:38] TF-TRT Warning: Could not find TensorRT\n",
      "2025-05-16 17:55:59.736652: W tensorflow/core/common_runtime/gpu/gpu_device.cc:2343] Cannot dlopen some GPU libraries. Please make sure the missing libraries mentioned above are installed properly if you would like to use GPU. Follow the guide at https://www.tensorflow.org/install/gpu for how to download and setup the required libraries for your platform.\n",
      "Skipping registering GPU devices...\n"
     ]
    }
   ],
   "source": [
    "import hashlib\n",
    "import os\n",
    "import sys\n",
    "from os.path import realpath, join, dirname\n",
    "import re\n",
    "import numpy as np\n",
    "import pandas as pd\n",
    "import tensorflow as tf\n",
    "import torch\n",
    "from keras.layers import Dense, Input,InputLayer\n",
    "from keras.models import Sequential\n",
    "from sklearn.model_selection import KFold\n",
    "from sklearn.preprocessing import StandardScaler\n",
    "from tensorflow.python.keras.callbacks import EarlyStopping, ModelCheckpoint\n",
    "from tensorflow.python.keras.models import load_model\n",
    "import torch\n",
    "from torch import nn, optim\n",
    "from sklearn.preprocessing import StandardScaler\n",
    "import numpy as np\n",
    "import os\n",
    "from transformers import (\n",
    "    AutoTokenizer,\n",
    "    TrainingArguments,\n",
    "    AutoModelForSequenceClassification,\n",
    "    set_seed,\n",
    ")\n",
    "sys.path.insert(0, realpath(join(dirname('captum_t.py'), '..')))\n",
    "\n",
    "from util.helpers import (\n",
    "    compute_metrics,\n",
    "    load_dataset_with_features, get_hugging_face_name, TCCDataset, RegressionTrainer,\n",
    "    compute_metrics_for_regression, OptimizedESCallback\n",
    ")\n",
    "\n",
    "os.environ['CUDA_DEVICE_ORDER'] = 'PCI_BUS_ID'\n",
    "os.environ['CUDA_VISIBLE_DEVICES'] = '0'\n",
    "\n",
    "\n",
    "MODEL_NAME = 'gbert'\n",
    "\n",
    "\n",
    "\n",
    "gpus = tf.config.experimental.list_physical_devices('GPU')\n",
    "for gpu in gpus:\n",
    "    tf.config.experimental.set_memory_growth(gpu, True)\n",
    "EXPERIMENT_NAME = f'ensemble_{MODEL_NAME}'\n",
    "EXPERIMENT_DIR = f'../autodl-tmp/cache/{EXPERIMENT_NAME}'\n",
    "\n"
   ]
  },
  {
   "cell_type": "code",
   "execution_count": 2,
   "id": "befbc1ca-6d1a-4028-b941-8159022fa645",
   "metadata": {},
   "outputs": [],
   "source": [
    "def custom_forward(inputs):\n",
    "    preds = predict(inputs)\n",
    "    print(preds)\n",
    "    return preds"
   ]
  },
  {
   "cell_type": "code",
   "execution_count": 3,
   "id": "5a56120e-325a-4019-887c-ee84f89536b7",
   "metadata": {},
   "outputs": [],
   "source": [
    "def predict(inputs):\n",
    "    #print('model(inputs): ', model(inputs))\n",
    "    return model(inputs)[0]\n",
    "def construct_input_ref_pair(text, ref_token_id, sep_token_id, cls_token_id):\n",
    "\n",
    "    text_ids = tokenizer.encode(text, add_special_tokens=False)\n",
    "    # construct input token ids\n",
    "    input_ids = [cls_token_id] + text_ids + [sep_token_id]\n",
    "    # construct reference token ids \n",
    "    ref_input_ids = [cls_token_id] + [ref_token_id] * len(text_ids) + [sep_token_id]\n",
    "\n",
    "    return torch.tensor([input_ids], device=device), torch.tensor([ref_input_ids], device=device), len(text_ids)\n",
    "\n",
    "def construct_input_ref_token_type_pair(input_ids, sep_ind=0):\n",
    "    seq_len = input_ids.size(1)\n",
    "    token_type_ids = torch.tensor([[0 if i <= sep_ind else 1 for i in range(seq_len)]], device=device)\n",
    "    ref_token_type_ids = torch.zeros_like(token_type_ids, device=device)# * -1\n",
    "    return token_type_ids, ref_token_type_ids\n",
    "\n",
    "def construct_input_ref_pos_id_pair(input_ids):\n",
    "    seq_length = input_ids.size(1)\n",
    "    position_ids = torch.arange(seq_length, dtype=torch.long, device=device)\n",
    "    # we could potentially also use random permutation with `torch.randperm(seq_length, device=device)`\n",
    "    ref_position_ids = torch.zeros(seq_length, dtype=torch.long, device=device)\n",
    "\n",
    "    position_ids = position_ids.unsqueeze(0).expand_as(input_ids)\n",
    "    ref_position_ids = ref_position_ids.unsqueeze(0).expand_as(input_ids)\n",
    "    return position_ids, ref_position_ids\n",
    "    \n",
    "def construct_attention_mask(input_ids):\n",
    "    return torch.ones_like(input_ids)"
   ]
  },
  {
   "cell_type": "code",
   "execution_count": 4,
   "id": "a5e99a8c-5e77-43fc-a05e-e1de10a39f0e",
   "metadata": {},
   "outputs": [],
   "source": [
    "\n",
    "tokenizer = AutoTokenizer.from_pretrained(get_hugging_face_name(MODEL_NAME))\n",
    "ref_token_id = tokenizer.pad_token_id # A token used for generating token reference\n",
    "sep_token_id = tokenizer.sep_token_id # A token used as a separator between question and text and it is also added to the end of the text.\n",
    "cls_token_id = tokenizer.cls_token_id # A token used for prepending to the concatenated question-text word sequence"
   ]
  },
  {
   "cell_type": "code",
   "execution_count": 5,
   "id": "6ded0ff9-7c84-42d2-a03d-ceaf8c7e11e9",
   "metadata": {},
   "outputs": [],
   "source": [
    "from transformers import BertTokenizer, BertForSequenceClassification, BertConfig\n",
    "from captum.attr import visualization as viz\n",
    "from captum.attr import IntegratedGradients, LayerConductance, LayerIntegratedGradients\n",
    "from captum.attr import configure_interpretable_embedding_layer, remove_interpretable_embedding_layer\n",
    "import torch\n",
    "import matplotlib.pyplot as plt\n",
    "import captum\n",
    "device = torch.device(\"cuda:0\" if torch.cuda.is_available() else \"cpu\")\n",
    "model = AutoModelForSequenceClassification.from_pretrained(\n",
    "                f'{EXPERIMENT_DIR}/models/{MODEL_NAME}/3221b14132ce1811b5cd73c4108382bd480e30138c2fadf6908e413349c00d49_gbert-large', local_files_only=True, num_labels=1\n",
    "            ).to(device)\n",
    "\n",
    "lig = LayerIntegratedGradients(custom_forward, model.bert.embeddings)"
   ]
  },
  {
   "cell_type": "code",
   "execution_count": 6,
   "id": "0aa8530e-b1cf-456c-9ad0-4608bb832d3b",
   "metadata": {},
   "outputs": [],
   "source": [
    "text =  \"Kochbücher propagierten ab 1651 die „Haute Cuisine“, die von den ersten Restaurants fortan adaptiert wurde.\" #\"The movie was one of those amazing movies\"#\"The movie was one of those amazing movies you can not forget\"\n"
   ]
  },
  {
   "cell_type": "code",
   "execution_count": 7,
   "id": "5086a1cc-b20a-4a04-88ce-2431bc58c835",
   "metadata": {},
   "outputs": [],
   "source": [
    "##saved_act = None\n",
    "def save_act(module, inp, out):\n",
    "  #global saved_act\n",
    "  saved_act = out\n",
    "  return saved_act\n",
    "\n",
    "hook = model.bert.embeddings.register_forward_hook(save_act)\n",
    "\n",
    "def construct_whole_bert_embeddings(input_ids, ref_input_ids, \\\n",
    "                                    token_type_ids=None, ref_token_type_ids=None, \\\n",
    "                                    position_ids=None, ref_position_ids=None):\n",
    "    input_embeddings = model.bert.embeddings(input_ids, token_type_ids=token_type_ids, position_ids=position_ids)\n",
    "    ref_input_embeddings = model.bert.embeddings(ref_input_ids, token_type_ids=ref_token_type_ids, position_ids=ref_position_ids)\n",
    "    \n",
    "    return input_embeddings, ref_input_embeddings\n",
    "def squad_pos_forward_func2(input_emb, attention_mask=None, position=0):\n",
    "    pred = model(inputs_embeds=input_emb, attention_mask=attention_mask, )\n",
    "    pred = pred[position]\n",
    "    return pred.max(1).values\n",
    "#def summarize_attributions(attributions):\n",
    "#    attributions = attributions.sum(dim=-1).squeeze(0)\n",
    "#    attributions = attributions / torch.norm(attributions)\n",
    "#    return attributions\n",
    "if torch.__version__ >= '1.7.0':\n",
    "    norm_fn = torch.linalg.norm\n",
    "else:\n",
    "    norm_fn = torch.norm\n",
    "def summarize_attributions(attributions):\n",
    "    attributions = attributions.sum(dim=-1).squeeze(0)\n",
    "    attributions = attributions / norm_fn(attributions)\n",
    "    return attributions\n",
    "\n",
    "    \n"
   ]
  },
  {
   "cell_type": "code",
   "execution_count": null,
   "id": "997184b1-b4cf-4276-af4e-a5396346547a",
   "metadata": {},
   "outputs": [],
   "source": []
  },
  {
   "cell_type": "code",
   "execution_count": 8,
   "id": "097def05-b077-4b0c-af2e-c5622f442c14",
   "metadata": {},
   "outputs": [],
   "source": [
    "def topFromValue(xticklabels, values):\n",
    "    # 合并token. '##'开头的单词\n",
    "    # return top words and values.\n",
    "    merged_words = []\n",
    "    merged_values = []\n",
    "    temp_word = \"\"\n",
    "    temp_value = 0\n",
    "    \n",
    "    for word, value in zip(xticklabels, values):\n",
    "        if word.startswith('##'):\n",
    "            temp_word += word[2:]\n",
    "            temp_value += value\n",
    "        else:\n",
    "            if temp_word:\n",
    "                merged_words.append(temp_word)\n",
    "                merged_values.append(temp_value)\n",
    "                temp_word = \"\"\n",
    "                temp_value = 0\n",
    "            temp_word = word\n",
    "            temp_value = value\n",
    "    \n",
    "    if temp_word:\n",
    "        merged_words.append(temp_word)\n",
    "        merged_values.append(temp_value)\n",
    "\n",
    "    filtered = [(w, v) for w, v in zip(merged_words, merged_values)\n",
    "                if re.search(r'[\\w\\u4e00-\\u9fff]', w)]  # Filtering symbol\n",
    "\n",
    "    if not filtered: \n",
    "        return [], []\n",
    "\n",
    "    merged_words, merged_values = zip(*filtered)\n",
    "    \n",
    "    \n",
    "    top_k = max(3, int(len(merged_values) * 0.3))  # At least three, but the number of difficult words is determined based on 30% of the total number of words.\n",
    "    \n",
    "    top_five_indices = sorted(range(len(merged_values)), key=lambda i: merged_values[i], reverse=True)[:top_k]\n",
    "    top_five_words = [merged_words[i] for i in top_five_indices]\n",
    "    top_five_values = [merged_values[i] for i in top_five_indices]\n",
    "    \n",
    "    #print(\"Top words :\", top_five_words)\n",
    "    #print(\"contribution values:\", top_five_values)\n",
    "    return top_five_words, top_five_values\n",
    "\n"
   ]
  },
  {
   "cell_type": "code",
   "execution_count": 17,
   "id": "a901a753-bc07-4a85-a832-4f1b2dcfaf69",
   "metadata": {},
   "outputs": [],
   "source": [
    "def captumProcess(text,tokenizer, model, ref_token_id, sep_token_id, cls_token_id):\n",
    "    # 对text进行embedding\n",
    "    input_ids, ref_input_ids, sep_id = construct_input_ref_pair(text, ref_token_id, sep_token_id, cls_token_id)\n",
    "    token_type_ids, ref_token_type_ids = construct_input_ref_token_type_pair(input_ids, sep_id)\n",
    "    position_ids, ref_position_ids = construct_input_ref_pos_id_pair(input_ids)\n",
    "    attention_mask = construct_attention_mask(input_ids)\n",
    "    \n",
    "    indices = input_ids[0].detach().tolist()\n",
    "    all_tokens = tokenizer.convert_ids_to_tokens(indices)\n",
    "    layer_attrs_start = []\n",
    "    layer_attrs_end = []\n",
    "    \n",
    "    \n",
    "    \n",
    "    layer_attrs_start_dist = []\n",
    "    layer_attrs_end_dist = []\n",
    "    \n",
    "    input_embeddings, ref_input_embeddings = construct_whole_bert_embeddings(input_ids, ref_input_ids, \\\n",
    "                                             token_type_ids=token_type_ids, ref_token_type_ids=ref_token_type_ids, \\\n",
    "                                             position_ids=position_ids, ref_position_ids=ref_position_ids)\n",
    "    \n",
    "    for i in range(model.config.num_hidden_layers):\n",
    "        lc = LayerConductance(squad_pos_forward_func2, model.bert.encoder.layer[i])\n",
    "        layer_attributions_start = lc.attribute(inputs=input_embeddings, baselines=ref_input_embeddings)\n",
    "        layer_attributions_end = lc.attribute(inputs=input_embeddings, baselines=ref_input_embeddings)\n",
    "        layer_attrs_start.append(summarize_attributions(layer_attributions_start).cpu().detach().tolist())\n",
    "        layer_attrs_end.append(summarize_attributions(layer_attributions_end).cpu().detach().tolist())\n",
    "    values = np.mean(np.array(layer_attrs_start),axis=0) #\n",
    "    xticklabels=all_tokens\n",
    "    top_words, top_values = topFromValue(xticklabels, values)\n",
    "    #print(top_words)\n",
    "    return top_words, top_values"
   ]
  },
  {
   "cell_type": "code",
   "execution_count": 18,
   "id": "c9eb04c6-89f2-49dc-961c-4db768c1209a",
   "metadata": {},
   "outputs": [],
   "source": [
    "top_words, top_values = captumProcess(text,tokenizer, model, ref_token_id, sep_token_id, cls_token_id)\n",
    "\n",
    "\n",
    "# stop here, the code above is about using captum to get the top contributed words and their contribution values.\n",
    "# from below, the code is for calculating hitPercent"
   ]
  },
  {
   "cell_type": "code",
   "execution_count": 19,
   "id": "a6cc6ddf-c97b-42a4-98d9-56c064d39c68",
   "metadata": {},
   "outputs": [
    {
     "data": {
      "text/plain": [
       "(['Haute', 'propagierten', '1651', 'fortan', 'die'],\n",
       " [0.4469438809222387,\n",
       "  0.444574096684543,\n",
       "  0.2496087642988035,\n",
       "  0.24581056437455118,\n",
       "  0.1479398519732058])"
      ]
     },
     "execution_count": 19,
     "metadata": {},
     "output_type": "execute_result"
    }
   ],
   "source": [
    "top_words, top_values"
   ]
  },
  {
   "cell_type": "code",
   "execution_count": 20,
   "id": "9f5aec73-fcce-463a-a05f-67a7722e6afd",
   "metadata": {},
   "outputs": [],
   "source": [
    "newtext = 'Ungeachtet der Umweltverhältnisse kam zu diesem Zeitpunkt die Chemische Evolution in Gang, bei der sich organische Moleküle bildeten, die als Bausteine der Entstehung von Leben unerlässlich waren.'"
   ]
  },
  {
   "cell_type": "code",
   "execution_count": null,
   "id": "604b1133-5d15-4e50-8a86-ae0ff3b1ebd4",
   "metadata": {},
   "outputs": [],
   "source": []
  },
  {
   "cell_type": "code",
   "execution_count": 77,
   "id": "2f158bfb-43a3-409e-9acd-2d23a15d5995",
   "metadata": {},
   "outputs": [
    {
     "data": {
      "text/plain": [
       "27"
      ]
     },
     "execution_count": 77,
     "metadata": {},
     "output_type": "execute_result"
    }
   ],
   "source": [
    "len(newtext.split(' '))"
   ]
  },
  {
   "cell_type": "code",
   "execution_count": 21,
   "id": "a32c10e7-fc6a-4a6f-8277-af5bed3f5b0b",
   "metadata": {},
   "outputs": [],
   "source": [
    "top_words, top_values = captumProcess(newtext,tokenizer, model, ref_token_id, sep_token_id, cls_token_id)"
   ]
  },
  {
   "cell_type": "code",
   "execution_count": null,
   "id": "14726f71-7e45-4ede-bb3d-a8814830597a",
   "metadata": {},
   "outputs": [],
   "source": []
  },
  {
   "cell_type": "code",
   "execution_count": 13,
   "id": "5bbb036f-dbf5-4be7-a576-c5c882743ba6",
   "metadata": {
    "scrolled": true
   },
   "outputs": [],
   "source": [
    "import json\n",
    "with open(\"difficult_words.json\", \"r\", encoding=\"utf-8\") as f:\n",
    "    difficult_dict = json.load(f)\n",
    "with open(\"Final_ratings_table.json\", \"r\", encoding=\"utf-8\") as f:\n",
    "    ratingTable = json.load(f)\n"
   ]
  },
  {
   "cell_type": "code",
   "execution_count": null,
   "id": "82741155-e14a-46fc-828b-07b243473586",
   "metadata": {},
   "outputs": [],
   "source": []
  },
  {
   "cell_type": "code",
   "execution_count": 14,
   "id": "8cc99b90-12e2-44e3-aa52-75798a621ba9",
   "metadata": {},
   "outputs": [
    {
     "data": {
      "text/plain": [
       "{'ID': 3,\n",
       " 'Sentence': 'Etwa 5000 Jahre ist es her, seit die Sumerer das Sieden von Seife erfanden.',\n",
       " 'MOS_R': 1.888888889,\n",
       " 'MOS_U': 1.888888889,\n",
       " 'MOS_L': 2.666666667}"
      ]
     },
     "execution_count": 14,
     "metadata": {},
     "output_type": "execute_result"
    }
   ],
   "source": [
    "ratingTable[0]"
   ]
  },
  {
   "cell_type": "code",
   "execution_count": 23,
   "id": "28fb73cb-e3b7-4067-8f1b-8a66d8df1a35",
   "metadata": {},
   "outputs": [],
   "source": [
    "def SingleHitPercent(text, tokenizer, model, ref_token_id, sep_token_id, cls_token_id):\n",
    "    text = ratingTable[sampleIndex]['Sentence']\n",
    "    try:\n",
    "        top_words, top_values = captumProcess(text,tokenizer, model, ref_token_id, sep_token_id, cls_token_id)\n",
    "        #print(top_words)\n",
    "    except:\n",
    "        #print(top_words)\n",
    "        pass\n",
    "    hit = 0\n",
    "    #print(top_words)\n",
    "    for word in top_words:\n",
    "        try:\n",
    "            if difficult_dict[word] == 1:\n",
    "                hit += 1\n",
    "        except:\n",
    "            pass\n",
    "    ratingTable[sampleIndex]['hitPercent'] = hit / len(top_words)\n",
    "    ratingTable[sampleIndex]['top_words'] = top_words\n",
    "    ratingTable[sampleIndex]['top_values'] =  top_values"
   ]
  },
  {
   "cell_type": "code",
   "execution_count": null,
   "id": "8e582547-30b5-43d8-8cd5-7c11d0db9c28",
   "metadata": {},
   "outputs": [],
   "source": []
  },
  {
   "cell_type": "code",
   "execution_count": 81,
   "id": "50596e60-0cae-41fe-aeb5-d4cdd97c6072",
   "metadata": {},
   "outputs": [
    {
     "name": "stderr",
     "output_type": "stream",
     "text": [
      "100%|██████████| 20/20 [00:50<00:00,  2.52s/it]\n"
     ]
    }
   ],
   "source": [
    "from tqdm import tqdm\n",
    "\n",
    "dealLength = min([20, len(ratingTable)]) # here we use 20 samples to test, because its quite slow to run all thousands samples. We can expand the scope later. \n",
    "for sampleIndex in tqdm(range(dealLength)):\n",
    "    text = ratingTable[sampleIndex]['Sentence']\n",
    "    MOS_R = ratingTable[sampleIndex]['MOS_R']\n",
    "    try:\n",
    "        top_words, top_values = captumProcess(text,tokenizer, model, ref_token_id, sep_token_id, cls_token_id)\n",
    "        #print(top_words)\n",
    "    except:\n",
    "        #print(top_words)\n",
    "        pass\n",
    "    hit = 0\n",
    "    #print(top_words)\n",
    "    for word in top_words:\n",
    "        try:\n",
    "            if difficult_dict[word] == 1:\n",
    "                hit += 1\n",
    "        except:\n",
    "            pass\n",
    "    ratingTable[sampleIndex]['hitPercent'] = hit / len(top_words)\n",
    "    ratingTable[sampleIndex]['top_words'] = top_words\n",
    "    ratingTable[sampleIndex]['top_values'] =  top_values"
   ]
  },
  {
   "cell_type": "code",
   "execution_count": 82,
   "id": "27ad077e-8ab5-475d-8dad-3ca30d4e4a3b",
   "metadata": {},
   "outputs": [
    {
     "data": {
      "text/plain": [
       "{'ID': 5,\n",
       " 'Sentence': 'Wegen dieser leichten Vergänglichkeit wurde ,Seifenblase‘ zu einer Metapher für etwas, das zwar anziehend, aber dennoch inhalts- und gehaltlos ist.',\n",
       " 'MOS_R': 4.428571429,\n",
       " 'MOS_U': 4.0,\n",
       " 'MOS_L': 4.214285714,\n",
       " 'hitPercent': 0.5,\n",
       " 'top_words': ['gehaltlos',\n",
       "  'dieser',\n",
       "  'Vergänglichkeit',\n",
       "  'leichten',\n",
       "  'und',\n",
       "  'ist'],\n",
       " 'top_values': [0.7669549693382578,\n",
       "  0.281521899625659,\n",
       "  0.20116414655543244,\n",
       "  0.18473775126039982,\n",
       "  0.16271022893488407,\n",
       "  0.10974635677606177]}"
      ]
     },
     "execution_count": 82,
     "metadata": {},
     "output_type": "execute_result"
    }
   ],
   "source": [
    "ratingTable[2]"
   ]
  },
  {
   "cell_type": "code",
   "execution_count": 83,
   "id": "dfaafdb1-992e-4f23-b335-12ad82fe2f79",
   "metadata": {},
   "outputs": [],
   "source": [
    "\n",
    "# save the result.\n",
    "json_path = \"AdaptFinal_ratings_table.json\"\n",
    "with open(json_path, \"w\", encoding=\"utf-8\") as f:\n",
    "    json.dump(ratingTable, f, ensure_ascii=False, indent=4)\n"
   ]
  },
  {
   "cell_type": "code",
   "execution_count": null,
   "id": "81faa3ee-8029-44bf-841a-f03db93f6944",
   "metadata": {},
   "outputs": [],
   "source": []
  },
  {
   "cell_type": "code",
   "execution_count": null,
   "id": "4c3f8650-7df3-4f8a-abb5-006bedfcd60b",
   "metadata": {},
   "outputs": [],
   "source": []
  },
  {
   "cell_type": "code",
   "execution_count": 4,
   "id": "483e2fc1-07b2-43c5-8f17-fa39c65cbb28",
   "metadata": {},
   "outputs": [],
   "source": [
    "# read result\n",
    "import json\n",
    "json_path = \"AdaptFinal_ratings_table.json\"\n",
    "\n",
    "with open(json_path,'r') as f:\n",
    "    ratingTable_d = f.read()\n",
    "ratingTable = json.loads(ratingTable_d)"
   ]
  },
  {
   "cell_type": "code",
   "execution_count": 5,
   "id": "ba6a7d3d-84e0-4c63-b561-9180599671c6",
   "metadata": {},
   "outputs": [
    {
     "name": "stdout",
     "output_type": "stream",
     "text": [
      "    hitPercent     MOS_R     MOS_U     MOS_L\n",
      "0     0.000000  1.888889  1.888889  2.666667\n",
      "1     0.000000  1.600000  2.222222  3.200000\n",
      "2     0.500000  4.428571  4.000000  4.214286\n",
      "3     0.000000  3.300000  2.666667  3.300000\n",
      "4     0.333333  4.000000  3.000000  4.428571\n",
      "5     0.285714  3.444444  2.888889  3.750000\n",
      "6     0.285714  5.000000  4.500000  5.100000\n",
      "7     0.166667  3.444444  2.900000  4.000000\n",
      "8     0.333333  2.900000  3.100000  4.285714\n",
      "9     0.333333  1.666667  1.500000  2.500000\n",
      "10    0.333333  4.833333  4.166667  4.611111\n",
      "11    0.333333  5.700000  5.200000  6.000000\n",
      "12    0.000000  2.666667  2.888889  3.111111\n",
      "13    0.000000  2.777778  2.777778  2.777778\n",
      "14    0.428571  4.200000  3.600000  5.000000\n",
      "15    0.250000  3.750000  3.500000  3.666667\n",
      "16    0.666667  3.500000  3.600000  4.700000\n",
      "17    0.000000  4.400000  3.444444  4.600000\n",
      "18    0.166667  2.555556  2.800000  3.400000\n",
      "19    0.000000  3.333333  2.777778  3.444444\n",
      "\n",
      "Spearman ：\n",
      "             hitPercent     MOS_R     MOS_U     MOS_L\n",
      "hitPercent    1.000000  0.507781  0.626477  0.612983\n",
      "MOS_R         0.507781  1.000000  0.912274  0.880782\n",
      "MOS_U         0.626477  0.912274  1.000000  0.909297\n",
      "MOS_L         0.612983  0.880782  0.909297  1.000000\n"
     ]
    },
    {
     "data": {
      "image/png": "[encoded data removed]",
      "text/plain": [
       "<Figure size 500x500 with 1 Axes>"
      ]
     },
     "metadata": {},
     "output_type": "display_data"
    },
    {
     "data": {
      "image/png": "[encoded data removed]",
      "text/plain": [
       "<Figure size 500x500 with 1 Axes>"
      ]
     },
     "metadata": {},
     "output_type": "display_data"
    },
    {
     "data": {
      "image/png": "[encoded data removed]",
      "text/plain": [
       "<Figure size 500x500 with 1 Axes>"
      ]
     },
     "metadata": {},
     "output_type": "display_data"
    },
    {
     "data": {
      "text/plain": [
       "\"\\nResult:\\n    hitPercent     MOS_R     MOS_U     MOS_L\\n0     0.000000  1.888889  1.888889  2.666667\\n1     0.000000  1.600000  2.222222  3.200000\\n2     0.500000  4.428571  4.000000  4.214286\\n3     0.000000  3.300000  2.666667  3.300000\\n4     0.333333  4.000000  3.000000  4.428571\\n5     0.285714  3.444444  2.888889  3.750000\\n6     0.285714  5.000000  4.500000  5.100000\\n7     0.166667  3.444444  2.900000  4.000000\\n8     0.333333  2.900000  3.100000  4.285714\\n9     0.333333  1.666667  1.500000  2.500000\\n10    0.333333  4.833333  4.166667  4.611111\\n11    0.333333  5.700000  5.200000  6.000000\\n12    0.000000  2.666667  2.888889  3.111111\\n13    0.000000  2.777778  2.777778  2.777778\\n14    0.428571  4.200000  3.600000  5.000000\\n15    0.250000  3.750000  3.500000  3.666667\\n16    0.666667  3.500000  3.600000  4.700000\\n17    0.000000  4.400000  3.444444  4.600000\\n18    0.166667  2.555556  2.800000  3.400000\\n19    0.000000  3.333333  2.777778  3.444444\\n\\nSpearman ：\\n             hitPercent     MOS_R     MOS_U     MOS_L\\nhitPercent    1.000000  0.507781  0.626477  0.612983\\nMOS_R         0.507781  1.000000  0.912274  0.880782\\nMOS_U         0.626477  0.912274  1.000000  0.909297\\nMOS_L         0.612983  0.880782  0.909297  1.000000\\n\\nThe first list is about specific sample's hitPercent value and it's difficulty.\\nSpearman means the nonlinear correlation between variables.\\nUnderstanding difficulty is the most relevant variable to hitPercent. The reason behind this might be difficult words influence understanding most, but not reading and linguistic it self.\\n\\n50% is good enough.\\n\""
      ]
     },
     "execution_count": 5,
     "metadata": {},
     "output_type": "execute_result"
    }
   ],
   "source": [
    "import pandas as pd\n",
    "import scipy.stats as stats\n",
    "import seaborn as sns\n",
    "import matplotlib.pyplot as plt\n",
    "#for i in range(len(ratingTable)):\n",
    "    \n",
    "#    ratingTable[i]['hitPercent'] = str(int(ratingTable[i]['hitPercent']*10))\n",
    "\n",
    "df = pd.DataFrame(ratingTable)\n",
    "#print(df.head())  \n",
    "\n",
    "cols = [\"hitPercent\", \"MOS_R\", \"MOS_U\", \"MOS_L\"]\n",
    "df = df[cols].dropna()\n",
    "df[\"MOS_R\"] = df[\"MOS_R\"]\n",
    "\n",
    "print(df)  \n",
    "import scipy.stats as stats\n",
    "import seaborn as sns\n",
    "import matplotlib.pyplot as plt\n",
    "\n",
    "\n",
    "spearman_corr = df.corr(method='spearman')\n",
    "\n",
    "print(\"\\nSpearman ：\\n\", spearman_corr)\n",
    "\n",
    "import seaborn as sns\n",
    "import matplotlib.pyplot as plt\n",
    "\n",
    "\n",
    "for col in [\"MOS_R\", \"MOS_U\", \"MOS_L\"]:\n",
    "    sns.lmplot(data=df, x=\"hitPercent\", y=col)\n",
    "    plt.title(f\"hitPercent vs {col}\")\n",
    "    plt.show()\n",
    "\n",
    "'''\n",
    "Result:\n",
    "    hitPercent     MOS_R     MOS_U     MOS_L\n",
    "0     0.000000  1.888889  1.888889  2.666667\n",
    "1     0.000000  1.600000  2.222222  3.200000\n",
    "2     0.500000  4.428571  4.000000  4.214286\n",
    "3     0.000000  3.300000  2.666667  3.300000\n",
    "4     0.333333  4.000000  3.000000  4.428571\n",
    "5     0.285714  3.444444  2.888889  3.750000\n",
    "6     0.285714  5.000000  4.500000  5.100000\n",
    "7     0.166667  3.444444  2.900000  4.000000\n",
    "8     0.333333  2.900000  3.100000  4.285714\n",
    "9     0.333333  1.666667  1.500000  2.500000\n",
    "10    0.333333  4.833333  4.166667  4.611111\n",
    "11    0.333333  5.700000  5.200000  6.000000\n",
    "12    0.000000  2.666667  2.888889  3.111111\n",
    "13    0.000000  2.777778  2.777778  2.777778\n",
    "14    0.428571  4.200000  3.600000  5.000000\n",
    "15    0.250000  3.750000  3.500000  3.666667\n",
    "16    0.666667  3.500000  3.600000  4.700000\n",
    "17    0.000000  4.400000  3.444444  4.600000\n",
    "18    0.166667  2.555556  2.800000  3.400000\n",
    "19    0.000000  3.333333  2.777778  3.444444\n",
    "\n",
    "Spearman ：\n",
    "             hitPercent     MOS_R     MOS_U     MOS_L\n",
    "hitPercent    1.000000  0.507781  0.626477  0.612983\n",
    "MOS_R         0.507781  1.000000  0.912274  0.880782\n",
    "MOS_U         0.626477  0.912274  1.000000  0.909297\n",
    "MOS_L         0.612983  0.880782  0.909297  1.000000\n",
    "\n",
    "The first list is about specific sample's hitPercent value and it's difficulty.\n",
    "Spearman means the nonlinear correlation between variables.\n",
    "Understanding difficulty is the most relevant variable to hitPercent. The reason behind this might be difficult words influence understanding most, but not reading and linguistic it self.\n",
    "\n",
    "50% is good enough.\n",
    "'''"
   ]
  },
  {
   "cell_type": "code",
   "execution_count": 3,
   "id": "648b125c-0180-442b-92b0-f6851ee1ebc6",
   "metadata": {},
   "outputs": [
    {
     "name": "stdout",
     "output_type": "stream",
     "text": [
      "Difficulty understanding AUC = 0.8333333333333333\n",
      "Difficulty reading AUC = 0.7087912087912087\n",
      "Difficulty linguistic AUC = 0.6666666666666667\n"
     ]
    },
    {
     "data": {
      "image/png": "[encoded data removed]",
      "text/plain": [
       "<Figure size 640x480 with 1 Axes>"
      ]
     },
     "metadata": {},
     "output_type": "display_data"
    }
   ],
   "source": [
    "df[\"label_difficult_U\"] = (df[\"MOS_U\"] > 3).astype(int)  # 1 stand for easy, 0 stand for hard.\n",
    "df[\"label_difficult_R\"] = (df[\"MOS_R\"] > 3).astype(int)  # 1 stand for easy, 0 stand for hard.\n",
    "df[\"label_difficult_L\"] = (df[\"MOS_L\"] > 3).astype(int)  # 1 stand for easy, 0 stand for hard.\n",
    "\n",
    "from sklearn.metrics import roc_auc_score\n",
    "\n",
    "\n",
    "auc_U = roc_auc_score(df[\"label_difficult_U\"], df[\"hitPercent\"])\n",
    "auc_R = roc_auc_score(df[\"label_difficult_R\"], df[\"hitPercent\"])\n",
    "auc_L = roc_auc_score(df[\"label_difficult_L\"], df[\"hitPercent\"])\n",
    "\n",
    "print(\"Difficulty understanding AUC =\", auc_U)\n",
    "print(\"Difficulty reading AUC =\", auc_R)\n",
    "print(\"Difficulty linguistic AUC =\", auc_L)\n",
    "\n",
    "from sklearn.metrics import roc_curve\n",
    "import matplotlib.pyplot as plt\n",
    "\n",
    "fpr_U, tpr_U, _ = roc_curve(df[\"label_difficult_U\"], df[\"hitPercent\"])\n",
    "fpr_R, tpr_R, _ = roc_curve(df[\"label_difficult_R\"], df[\"hitPercent\"])\n",
    "fpr_L, tpr_L, _ = roc_curve(df[\"label_difficult_L\"], df[\"hitPercent\"])\n",
    "\n",
    "plt.plot(fpr_U, tpr_U, label=f\"AUC_U = {auc_U:.2f}\")\n",
    "plt.plot(fpr_R, tpr_R, label=f\"AUC_R = {auc_R:.2f}\")\n",
    "plt.plot(fpr_L, tpr_L, label=f\"AUC_L = {auc_L:.2f}\")\n",
    "plt.plot([0, 1], [0, 1], 'k--')  # baseline\n",
    "plt.xlabel(\"False Positive Rate\")\n",
    "plt.ylabel(\"True Positive Rate\")\n",
    "plt.title(\"ROC Curve: hitPercent predicting difficult samples\")\n",
    "plt.legend()\n",
    "plt.show()"
   ]
  },
  {
   "cell_type": "code",
   "execution_count": null,
   "id": "3379a84d-607b-47fa-8088-4ae3d1063397",
   "metadata": {},
   "outputs": [],
   "source": [
    "# finished."
   ]
  },
  {
   "cell_type": "code",
   "execution_count": null,
   "id": "176311e8-3e41-4065-8c8f-78be796d84fa",
   "metadata": {},
   "outputs": [],
   "source": []
  },
  {
   "cell_type": "code",
   "execution_count": null,
   "id": "769a5ca9-1a5c-456d-8046-e3547c35eb58",
   "metadata": {},
   "outputs": [],
   "source": []
  },
  {
   "cell_type": "code",
   "execution_count": null,
   "id": "ea46f79d-1b27-4879-960c-6b9c1a350932",
   "metadata": {},
   "outputs": [],
   "source": []
  },
  {
   "cell_type": "code",
   "execution_count": null,
   "id": "b3b721ea-8d28-4a02-a5e3-ef6bbee7a8fb",
   "metadata": {},
   "outputs": [],
   "source": []
  },
  {
   "cell_type": "code",
   "execution_count": null,
   "id": "98e34760-9cdf-4c4f-96d4-65ae116799ec",
   "metadata": {},
   "outputs": [],
   "source": []
  },
  {
   "cell_type": "code",
   "execution_count": null,
   "id": "afc9bce3-1546-42ec-9b86-a57df2e5369f",
   "metadata": {},
   "outputs": [],
   "source": []
  },
  {
   "cell_type": "code",
   "execution_count": null,
   "id": "534ee9c4-86f7-4f40-9f5d-3116d6e45c16",
   "metadata": {},
   "outputs": [],
   "source": []
  },
  {
   "cell_type": "code",
   "execution_count": null,
   "id": "f18a0dfc-72ab-4c0d-b18f-f44ce12adc8c",
   "metadata": {},
   "outputs": [],
   "source": [
    "import pandas as pd\n",
    "import json\n",
    "from transformers import AutoModelForCausalLM, AutoTokenizer\n",
    "import torch\n",
    "from tqdm import tqdm\n",
    "# 读取 Excel 文件\n",
    "file_path = \"TextComplexityDE19.xlsx\"\n",
    "xls = pd.ExcelFile(file_path)\n",
    "\n",
    "# 加载 Final_rating_table\n",
    "sheet_name = \"Final_Ratings_Table\"  # 假设表名是这个，需要确认\n",
    "df = xls.parse(sheet_name)\n",
    "\n",
    "# 提取所需字段\n",
    "columns_needed = [\"ID\", \"Sentence\", \"MOS_R\", \"MOS_U\", \"MOS_L\"]\n",
    "df_selected = df[columns_needed]\n",
    "\n",
    "# 转换为 JSON 格式\n",
    "json_output = df_selected.to_dict(orient=\"records\")\n",
    "\n",
    "# 保存 JSON 文件\n",
    "json_path = \"Final_ratings_table.json\"\n",
    "with open(json_path, \"w\", encoding=\"utf-8\") as f:\n",
    "    json.dump(json_output, f, ensure_ascii=False, indent=4)\n",
    "\n",
    "# 返回 JSON 预览\n",
    "json_output[:5]  # 只展示前5条数据"
   ]
  },
  {
   "cell_type": "code",
   "execution_count": null,
   "id": "0b91b296-1639-4c22-9b21-b82a140cde5f",
   "metadata": {},
   "outputs": [],
   "source": [
    "import nltk\n",
    "difficult_words = {}\n",
    "def extract_words(data):\n",
    "    words = set()\n",
    "    for entry in data:\n",
    "        sentence = entry['Sentence']\n",
    "        # 使用nltk进行德语单词的分词\n",
    "        words_in_sentence = nltk.word_tokenize(sentence, language='german')\n",
    "        words.update([word for word in words_in_sentence if word.isalpha()])  # 去重\n",
    "    return words\n",
    "def prepare_context(word, sentence):\n",
    "    # 传递给API时，可以通过给定词汇的上下文帮助提高准确性\n",
    "    context = f\"Hier ist ein Beispiel für das Wort '{word}' in einem Satz: '{sentence}'\"\n",
    "    return context\n",
    "\n",
    "\n",
    "word_difficulty = {}\n",
    "\n",
    "# 提取去重后的所有单词\n",
    "all_unique_words = extract_words(json_output)\n",
    "\n",
    "print(len(all_unique_words))"
   ]
  },
  {
   "cell_type": "code",
   "execution_count": null,
   "id": "a6aaeab2-ad17-4310-83ae-ca7cb96afc10",
   "metadata": {},
   "outputs": [],
   "source": [
    "from tqdm import tqdm\n",
    "def is_difficult_word(word_list, model_name=\"Qwen/Qwen2.5-3B\"):\n",
    "    # 加载模型和分词器\n",
    "    tokenizer = AutoTokenizer.from_pretrained(model_name, cache_dir='/root/autodl-tmp')\n",
    "    model = AutoModelForCausalLM.from_pretrained(model_name, torch_dtype=torch.float16, device_map=\"auto\", cache_dir='/root/autodl-tmp')\n",
    "    \n",
    "    results = {}\n",
    "    for word in tqdm(word_list):\n",
    "        #word ='spätestens'\n",
    "        prompt = f\"请帮我严格一点判断下面的德语词汇是否属于是高难词，这里判断高难词要考虑是否是较长复杂的复合词，是否是专业术语，是否是不常见的词汇。只回答is difficulty或is not difficult就行。下面有两个样例供你参考，你需要回答的只有Assistant后面的。Word: Vergänglichkeit. Assistant: This word is difficult. Word: Redewendung. Assistant: This word is not difficult. 上面是样例，下面是你要判断的词：Word: {word}\"\n",
    "\n",
    "        #prompt = f\"Ist das deutsche Wort '{word}' ein schwieriges Wort? Antworte mit 'Ja' oder 'Nein'.\"\n",
    "        inputs = tokenizer(prompt, return_tensors=\"pt\").to(model.device)\n",
    "        with torch.no_grad():\n",
    "            outputs = model.generate(**inputs, max_new_tokens=10,\n",
    "                                     do_sample=True,  # 采样生成\n",
    "                                    temperature=0.4,  # 控制生成的多样性\n",
    "                                    repetition_penalty=1.2)  # 降低复读概率)\n",
    "        response = tokenizer.decode(outputs[0], skip_special_tokens=True)\n",
    "        response = response.split('Assistant: ')[-1]\n",
    "        print(response)\n",
    "        if 'is difficult' in response:\n",
    "            \n",
    "            results[word] = 1\n",
    "        else:\n",
    "            results[word] = 0\n",
    "    return results"
   ]
  },
  {
   "cell_type": "code",
   "execution_count": null,
   "id": "8ab6ae4b-bbf5-45c0-8b95-86feccde5bd8",
   "metadata": {},
   "outputs": [],
   "source": [
    "resultDict = is_difficult_word(all_unique_words)"
   ]
  },
  {
   "cell_type": "code",
   "execution_count": null,
   "id": "99266343-82c4-444a-b6fc-421510287912",
   "metadata": {},
   "outputs": [],
   "source": [
    "import json\n",
    "\n",
    "# 假设 resultDict 已经生成\n",
    "with open(\"difficult_words.json\", \"w\", encoding=\"utf-8\") as f:\n",
    "    json.dump(resultDict, f, ensure_ascii=False, indent=4)  # 确保非 ASCII 字符（如德语字符）正常存储\n"
   ]
  },
  {
   "cell_type": "code",
   "execution_count": null,
   "id": "fa623bf1-c4de-4f7a-9e58-a484f2d25789",
   "metadata": {},
   "outputs": [],
   "source": []
  },
  {
   "cell_type": "code",
   "execution_count": 58,
   "id": "e7d2210d-e876-4180-a259-ac57e6c00850",
   "metadata": {},
   "outputs": [
    {
     "name": "stdout",
     "output_type": "stream",
     "text": [
      "JSON 文件已保存。\n"
     ]
    }
   ],
   "source": [
    "# 将集合转换为列表\n",
    "words_list = list(all_unique_words)\n",
    "\n",
    "# 将列表转换为 JSON 格式的字符串\n",
    "json_data = json.dumps(words_list, ensure_ascii=False, indent=4)\n",
    "\n",
    "# 将 JSON 数据写入文件\n",
    "with open('unique_words.json', 'w', encoding='utf-8') as file:\n",
    "    file.write(json_data)\n",
    "\n",
    "print(\"JSON 文件已保存。\")"
   ]
  },
  {
   "cell_type": "code",
   "execution_count": 60,
   "id": "cc682a7c-5b0a-4157-9ee1-406dee7b2a45",
   "metadata": {},
   "outputs": [
    {
     "name": "stdout",
     "output_type": "stream",
     "text": [
      "Excel 文件已保存。\n"
     ]
    }
   ],
   "source": [
    "# 将集合转换为列表\n",
    "words_list = list(all_unique_words)\n",
    "\n",
    "# 创建 DataFrame\n",
    "df = pd.DataFrame(words_list, columns=[\"Word\"])\n",
    "\n",
    "# 保存到 Excel 文件\n",
    "df.to_excel(\"unique_words.xlsx\", index=False)\n",
    "\n",
    "print(\"Excel 文件已保存。\")"
   ]
  },
  {
   "cell_type": "code",
   "execution_count": 57,
   "id": "5d02afbc-5d47-402d-b4da-5d74d2a0e755",
   "metadata": {
    "scrolled": true
   },
   "outputs": [
    {
     "name": "stdout",
     "output_type": "stream",
     "text": [
      " Assistant: This word is not difficult."
     ]
    }
   ],
   "source": [
    "word ='spätestens'\n",
    "prompt = f\"请帮我判断下面的德语词汇是否属于是高难词，只回答is difficulty或is not difficult就行。下面有两个样例供你参考，你需要回答的只有Assistant后面的。Word: Redewendung. Assistant: This word is difficult. Word: Vergänglichkeit. Assistant: This word is difficult. 下面是你要判断的词：Word: {word}\"\n",
    "\n",
    "output = api.run(\n",
    "    \"meta/llama-2-70b-chat:02e509c789964a7ea8736978a43525956ef40397be9033abf9fd2badfe68c9e3\",\n",
    "        input={\"prompt\": prompt,\n",
    "              \"max_new_tokens\": 10}\n",
    "    )\n",
    "for item in output:\n",
    "    print(item, end=\"\")"
   ]
  },
  {
   "cell_type": "code",
   "execution_count": null,
   "id": "3c81de9d-ecf8-421f-82e7-3be835932ad0",
   "metadata": {},
   "outputs": [],
   "source": []
  },
  {
   "cell_type": "code",
   "execution_count": null,
   "id": "32f55d03-5aa3-4de8-9ac7-b05c03d0e741",
   "metadata": {},
   "outputs": [],
   "source": []
  },
  {
   "cell_type": "code",
   "execution_count": null,
   "id": "af0a586c-054a-401d-9279-d1f537ab58c3",
   "metadata": {},
   "outputs": [],
   "source": []
  },
  {
   "cell_type": "code",
   "execution_count": null,
   "id": "f90842cd-b09d-4e77-a250-6420fc9d55fc",
   "metadata": {},
   "outputs": [],
   "source": []
  },
  {
   "cell_type": "code",
   "execution_count": null,
   "id": "f1461603-1891-4e99-952d-f91f4ab83485",
   "metadata": {},
   "outputs": [],
   "source": []
  },
  {
   "cell_type": "code",
   "execution_count": null,
   "id": "d186e8bf-ff16-4a4e-860c-25cb44e61d73",
   "metadata": {},
   "outputs": [],
   "source": []
  },
  {
   "cell_type": "code",
   "execution_count": null,
   "id": "fa779150-358a-473d-a771-7ae5b54eb65e",
   "metadata": {},
   "outputs": [],
   "source": []
  },
  {
   "cell_type": "code",
   "execution_count": null,
   "id": "ff399b52-da9b-4301-a025-c9f7f370c1fb",
   "metadata": {},
   "outputs": [],
   "source": []
  },
  {
   "cell_type": "code",
   "execution_count": null,
   "id": "18cbe50f-10ed-4b2d-ae72-dddb0e362087",
   "metadata": {},
   "outputs": [],
   "source": []
  },
  {
   "cell_type": "code",
   "execution_count": 18,
   "id": "c31f86ae-efc2-45ad-b185-32fca8253cb5",
   "metadata": {},
   "outputs": [],
   "source": [
    "input_ids, ref_input_ids, sep_id = construct_input_ref_pair(text, ref_token_id, sep_token_id, cls_token_id)\n",
    "token_type_ids, ref_token_type_ids = construct_input_ref_token_type_pair(input_ids, sep_id)\n",
    "position_ids, ref_position_ids = construct_input_ref_pos_id_pair(input_ids)\n",
    "attention_mask = construct_attention_mask(input_ids)\n",
    "\n",
    "indices = input_ids[0].detach().tolist()\n",
    "all_tokens = tokenizer.convert_ids_to_tokens(indices)"
   ]
  },
  {
   "cell_type": "code",
   "execution_count": 19,
   "id": "67c6bbb3-9adb-4e52-a01c-5dcdc5ae3d57",
   "metadata": {},
   "outputs": [],
   "source": [
    "##saved_act = None\n",
    "def save_act(module, inp, out):\n",
    "  #global saved_act\n",
    "  saved_act = out\n",
    "  return saved_act\n",
    "\n",
    "hook = model.bert.embeddings.register_forward_hook(save_act)"
   ]
  },
  {
   "cell_type": "code",
   "execution_count": 20,
   "id": "c8a5e82d-3ba9-48fd-944a-e117a79a195d",
   "metadata": {},
   "outputs": [
    {
     "name": "stdout",
     "output_type": "stream",
     "text": [
      "tensor([[3.2616]], device='cuda:0', grad_fn=<AddmmBackward0>)\n"
     ]
    },
    {
     "data": {
      "text/plain": [
       "torch.Size([1, 29])"
      ]
     },
     "execution_count": 20,
     "metadata": {},
     "output_type": "execute_result"
    }
   ],
   "source": [
    "# Check predict output\n",
    "custom_forward(torch.cat([input_ids]).to(device))\n",
    "input_ids.shape"
   ]
  },
  {
   "cell_type": "code",
   "execution_count": 28,
   "id": "f768dc10-b7fd-464a-95d6-301691088470",
   "metadata": {},
   "outputs": [],
   "source": [
    "def construct_whole_bert_embeddings(input_ids, ref_input_ids, \\\n",
    "                                    token_type_ids=None, ref_token_type_ids=None, \\\n",
    "                                    position_ids=None, ref_position_ids=None):\n",
    "    input_embeddings = model.bert.embeddings(input_ids, token_type_ids=token_type_ids, position_ids=position_ids)\n",
    "    ref_input_embeddings = model.bert.embeddings(ref_input_ids, token_type_ids=ref_token_type_ids, position_ids=ref_position_ids)\n",
    "    \n",
    "    return input_embeddings, ref_input_embeddings\n",
    "def squad_pos_forward_func2(input_emb, attention_mask=None, position=0):\n",
    "    pred = model(inputs_embeds=input_emb, attention_mask=attention_mask, )\n",
    "    pred = pred[position]\n",
    "    return pred.max(1).values\n",
    "#def summarize_attributions(attributions):\n",
    "#    attributions = attributions.sum(dim=-1).squeeze(0)\n",
    "#    attributions = attributions / torch.norm(attributions)\n",
    "#    return attributions\n",
    "if torch.__version__ >= '1.7.0':\n",
    "    norm_fn = torch.linalg.norm\n",
    "else:\n",
    "    norm_fn = torch.norm\n",
    "def summarize_attributions(attributions):\n",
    "    attributions = attributions.sum(dim=-1).squeeze(0)\n",
    "    attributions = attributions / norm_fn(attributions)\n",
    "    return attributions\n",
    "layer_attrs_start = []\n",
    "layer_attrs_end = []\n",
    "\n",
    "\n",
    "\n",
    "layer_attrs_start_dist = []\n",
    "layer_attrs_end_dist = []\n",
    "\n",
    "input_embeddings, ref_input_embeddings = construct_whole_bert_embeddings(input_ids, ref_input_ids, \\\n",
    "                                         token_type_ids=token_type_ids, ref_token_type_ids=ref_token_type_ids, \\\n",
    "                                         position_ids=position_ids, ref_position_ids=ref_position_ids)\n",
    "\n",
    "for i in range(model.config.num_hidden_layers):\n",
    "    lc = LayerConductance(squad_pos_forward_func2, model.bert.encoder.layer[i])\n",
    "    layer_attributions_start = lc.attribute(inputs=input_embeddings, baselines=ref_input_embeddings)\n",
    "    layer_attributions_end = lc.attribute(inputs=input_embeddings, baselines=ref_input_embeddings)\n",
    "    layer_attrs_start.append(summarize_attributions(layer_attributions_start).cpu().detach().tolist())\n",
    "    layer_attrs_end.append(summarize_attributions(layer_attributions_end).cpu().detach().tolist())\n"
   ]
  },
  {
   "cell_type": "code",
   "execution_count": 25,
   "id": "3bf12658-de96-42ae-9aa6-a386efbcf475",
   "metadata": {},
   "outputs": [],
   "source": [
    "values = np.mean(np.array(layer_attrs_start),axis=0)\n",
    "xticklabels=all_tokens"
   ]
  },
  {
   "cell_type": "code",
   "execution_count": 26,
   "id": "f57751dc-45eb-4340-9c7d-4245878546bc",
   "metadata": {},
   "outputs": [
    {
     "data": {
      "image/png": "[encoded data removed]",
      "text/plain": [
       "<Figure size 1200x600 with 1 Axes>"
      ]
     },
     "metadata": {},
     "output_type": "display_data"
    }
   ],
   "source": [
    "# 创建柱状图\n",
    "plt.figure(figsize=(12, 6))\n",
    "plt.bar(xticklabels, values)\n",
    "\n",
    "# 添加标签和标题\n",
    "plt.xlabel('Tokens')\n",
    "plt.ylabel('Values')\n",
    "plt.title('Bar Chart of Token Values')\n",
    "\n",
    "# 旋转x轴标签以便更好地显示\n",
    "plt.xticks(rotation=45, ha='right')\n",
    "\n",
    "# 显示图形\n",
    "plt.tight_layout()\n",
    "plt.show()\n"
   ]
  },
  {
   "cell_type": "code",
   "execution_count": 27,
   "id": "38bb1bd4-615c-4a76-9b1e-507a5503791b",
   "metadata": {},
   "outputs": [
    {
     "name": "stdout",
     "output_type": "stream",
     "text": [
      "Top five words : ['Haute', 'propagierten', '1651']\n",
      "contribution values: [0.4469438809222387, 0.444574096684543, 0.2496087642988035]\n"
     ]
    }
   ],
   "source": [
    "# 合并'##'开头的单词\n",
    "merged_words = []\n",
    "merged_values = []\n",
    "temp_word = \"\"\n",
    "temp_value = 0\n",
    "\n",
    "for word, value in zip(xticklabels, values):\n",
    "    if word.startswith('##'):\n",
    "        temp_word += word[2:]\n",
    "        temp_value += value\n",
    "    else:\n",
    "        if temp_word:\n",
    "            merged_words.append(temp_word)\n",
    "            merged_values.append(temp_value)\n",
    "            temp_word = \"\"\n",
    "            temp_value = 0\n",
    "        temp_word = word\n",
    "        temp_value = value\n",
    "\n",
    "if temp_word:\n",
    "    merged_words.append(temp_word)\n",
    "    merged_values.append(temp_value)\n",
    "\n",
    "# 贡献值最大的前三项\n",
    "top_five_indices = sorted(range(len(merged_values)), key=lambda i: merged_values[i], reverse=True)[:3]\n",
    "top_five_words = [merged_words[i] for i in top_five_indices]\n",
    "top_five_values = [merged_values[i] for i in top_five_indices]\n",
    "\n",
    "print(\"Top five words :\", top_five_words)\n",
    "print(\"contribution values:\", top_five_values)\n",
    "\n",
    "\n"
   ]
  },
  {
   "cell_type": "code",
   "execution_count": null,
   "id": "4c3251b8-1f54-40a6-ad4a-2badc48c6b02",
   "metadata": {},
   "outputs": [],
   "source": []
  }
 ],
 "metadata": {
  "kernelspec": {
   "display_name": "Python 3 (ipykernel)",
   "language": "python",
   "name": "python3"
  },
  "language_info": {
   "codemirror_mode": {
    "name": "ipython",
    "version": 3
   },
   "file_extension": ".py",
   "mimetype": "text/x-python",
   "name": "python",
   "nbconvert_exporter": "python",
   "pygments_lexer": "ipython3",
   "version": "3.12.3"
  }
 },
 "nbformat": 4,
 "nbformat_minor": 5
}
