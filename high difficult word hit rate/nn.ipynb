{
 "cells": [
  {
   "cell_type": "code",
   "execution_count": 2,
   "id": "fc2742d6-043a-44e6-ab04-f1fdb8dda5a3",
   "metadata": {},
   "outputs": [
    {
     "name": "stderr",
     "output_type": "stream",
     "text": [
      "2025-03-24 14:23:19.642720: I tensorflow/core/util/port.cc:153] oneDNN custom operations are on. You may see slightly different numerical results due to floating-point round-off errors from different computation orders. To turn them off, set the environment variable `TF_ENABLE_ONEDNN_OPTS=0`.\n",
      "2025-03-24 14:23:19.664949: E external/local_xla/xla/stream_executor/cuda/cuda_fft.cc:485] Unable to register cuFFT factory: Attempting to register factory for plugin cuFFT when one has already been registered\n",
      "2025-03-24 14:23:19.687637: E external/local_xla/xla/stream_executor/cuda/cuda_dnn.cc:8454] Unable to register cuDNN factory: Attempting to register factory for plugin cuDNN when one has already been registered\n",
      "2025-03-24 14:23:19.694453: E external/local_xla/xla/stream_executor/cuda/cuda_blas.cc:1452] Unable to register cuBLAS factory: Attempting to register factory for plugin cuBLAS when one has already been registered\n",
      "2025-03-24 14:23:19.715999: I tensorflow/core/platform/cpu_feature_guard.cc:210] This TensorFlow binary is optimized to use available CPU instructions in performance-critical operations.\n",
      "To enable the following instructions: AVX2 AVX512F AVX512_VNNI AVX512_BF16 AVX512_FP16 AVX_VNNI AMX_TILE AMX_INT8 AMX_BF16 FMA, in other operations, rebuild TensorFlow with the appropriate compiler flags.\n",
      "2025-03-24 14:23:20.959284: W tensorflow/compiler/tf2tensorrt/utils/py_utils.cc:38] TF-TRT Warning: Could not find TensorRT\n",
      "2025-03-24 14:23:22.788141: W tensorflow/core/common_runtime/gpu/gpu_device.cc:2343] Cannot dlopen some GPU libraries. Please make sure the missing libraries mentioned above are installed properly if you would like to use GPU. Follow the guide at https://www.tensorflow.org/install/gpu for how to download and setup the required libraries for your platform.\n",
      "Skipping registering GPU devices...\n"
     ]
    }
   ],
   "source": [
    "import hashlib\n",
    "import os\n",
    "import sys\n",
    "from os.path import realpath, join, dirname\n",
    "\n",
    "import numpy as np\n",
    "import pandas as pd\n",
    "import tensorflow as tf\n",
    "import torch\n",
    "from keras.layers import Dense, Input,InputLayer\n",
    "from keras.models import Sequential\n",
    "from sklearn.model_selection import KFold\n",
    "from sklearn.preprocessing import StandardScaler\n",
    "from tensorflow.python.keras.callbacks import EarlyStopping, ModelCheckpoint\n",
    "from tensorflow.python.keras.models import load_model\n",
    "import torch\n",
    "from torch import nn, optim\n",
    "from sklearn.preprocessing import StandardScaler\n",
    "import numpy as np\n",
    "import os\n",
    "#  Load a pre-trained Transformer model, convert text into a format readable by the model & extract hidden representations.\n",
    "from transformers import (\n",
    "    AutoTokenizer,\n",
    "    TrainingArguments,\n",
    "    AutoModelForSequenceClassification,\n",
    "    set_seed,\n",
    ")\n",
    "\n",
    "#  custom functions: include implementations for data loading, model training, evaluation metric calculation, and callbacks (early stopping)\n",
    "sys.path.insert(0, realpath(join(dirname('captum_t.py'), '..')))\n",
    "\n",
    "from util.helpers import (\n",
    "    compute_metrics,\n",
    "    load_dataset_with_features, get_hugging_face_name, TCCDataset, RegressionTrainer,\n",
    "    compute_metrics_for_regression, OptimizedESCallback\n",
    ")\n",
    "\n",
    "os.environ['CUDA_DEVICE_ORDER'] = 'PCI_BUS_ID'\n",
    "os.environ['CUDA_VISIBLE_DEVICES'] = '0'\n",
    "\n",
    "#  avoid occupying all memory at once\n",
    "gpus = tf.config.experimental.list_physical_devices('GPU')\n",
    "for gpu in gpus:\n",
    "    tf.config.experimental.set_memory_growth(gpu, True)\n",
    "\n",
    "BOOTSTRAP_SIZE = 1000  # 1000\n",
    "MAX_ENSEMBLE_SIZE = 2  # 60\n",
    "ENSEMBLE_POOL_SIZE = 5  # 100\n",
    "N_FOLDS = 2\n",
    "MODEL_NAME = 'gbert'  # ['gbert', 'gelectra', 'gottbert', 'gerpt']\n",
    "TRAIN_BATCH_SIZE = 16\n",
    "VALID_BATCH_SIZE = 16\n",
    "N_EVAL_STEPS = 23\n",
    "\n",
    "EXPERIMENT_NAME = f'ensemble_{MODEL_NAME}'\n",
    "EXPERIMENT_DIR = f'../autodl-tmp/cache/{EXPERIMENT_NAME}'\n",
    "\n",
    "df_train, feature_columns = load_dataset_with_features('training')\n",
    "\n",
    "# Make predictions with the ensemble model on a validation set; create a DataFrame for the prediction results, including ID and raw text.\n",
    "# Load the tokenizer for text segmentation\n",
    "# Tokenize the text in the validation set, specifying padding, truncation, and a maximum length (128) to ensure fixed-length input.\n",
    "def get_predictions(\n",
    "        df_train_folds,\n",
    "        df_val_fold,\n",
    "        n_epochs=20,\n",
    "        n_log_steps=10,\n",
    "):\n",
    "    # store predictions in dataframe\n",
    "    # columns: Sentence, Prediction of Model 1, Prediction of Model 2, ...\n",
    "    df_predictions_val_fold = df_val_fold[['ID', 'Sentence DE']].copy()\n",
    "\n",
    "    # get tokenizer\n",
    "    tokenizer = AutoTokenizer.from_pretrained(get_hugging_face_name(MODEL_NAME))\n",
    "\n",
    "    X_val_fold = df_val_fold['Sentence DE'].values\n",
    "    X_val_fold_features = df_val_fold[feature_columns].values\n",
    "\n",
    "    # tokenize\n",
    "    tokens_val_fold = tokenizer(X_val_fold.tolist(), padding='max_length', return_tensors='pt', truncation=True,\n",
    "                                max_length=128)\n",
    "    \n",
    "    for k in range(ENSEMBLE_POOL_SIZE):\n",
    "        df_early_stopping = df_train_folds.sample(frac=0.1, random_state=k)\n",
    "        df_train_no_es = df_train_folds.drop(\n",
    "            df_train_folds[\n",
    "                df_train_folds['ID'].isin(df_early_stopping['ID'])\n",
    "            ].index\n",
    "        )\n",
    "\n",
    "        X_early_stopping = df_early_stopping['Sentence DE'].values\n",
    "        X_early_stopping_features = df_early_stopping[feature_columns].values\n",
    "        y_early_stopping = df_early_stopping['MOS'].values\n",
    "\n",
    "        X_training = df_train_no_es['Sentence DE'].values\n",
    "        X_training_features = df_train_no_es[feature_columns].values\n",
    "        y_training = df_train_no_es['MOS'].values\n",
    "\n",
    "        # tokenize\n",
    "        tokens_early_stopping = tokenizer(X_early_stopping.tolist(), padding='max_length', return_tensors='pt',\n",
    "                                          truncation=True, max_length=128)\n",
    "\n",
    "        tokens_training = tokenizer(X_training.tolist(), padding='max_length', return_tensors='pt', truncation=True,\n",
    "                                    max_length=128)\n",
    "        \n",
    "        # A unique identifier is generated by hashing. This prevents training of models on identical datasets.\n",
    "        hash = (\n",
    "                hashlib.sha256(\n",
    "                    pd.util.hash_pandas_object(df_train_no_es['ID'], index=True).values\n",
    "                ).hexdigest()\n",
    "                + '_'\n",
    "                + get_hugging_face_name(MODEL_NAME)[\n",
    "                  get_hugging_face_name(MODEL_NAME).find('/') + 1:\n",
    "                  ]\n",
    "        )\n",
    "\n",
    "        # load model and, if necessary, train it\n",
    "        try:\n",
    "            print(f'{EXPERIMENT_DIR}/models/{MODEL_NAME}/{hash}')\n",
    "            model = AutoModelForSequenceClassification.from_pretrained(\n",
    "                f'{EXPERIMENT_DIR}/models/{MODEL_NAME}/{hash}', local_files_only=True, num_labels=1\n",
    "            )\n",
    "        except EnvironmentError:\n",
    "            # create training dataset, attempts to load a locally cached model. If the file does not exist or loading fails, the training process is initiated:\n",
    "            early_stopping_dataset = TCCDataset(tokens_early_stopping, y_early_stopping)\n",
    "            training_dataset = TCCDataset(tokens_training, y_training)\n",
    "\n",
    "            training_args = TrainingArguments(\n",
    "                output_dir=f'{EXPERIMENT_DIR}/{MODEL_NAME}_trainer/',\n",
    "                num_train_epochs=n_epochs,\n",
    "                per_device_train_batch_size=TRAIN_BATCH_SIZE,\n",
    "                per_device_eval_batch_size=VALID_BATCH_SIZE,\n",
    "                warmup_ratio=0.3,\n",
    "                learning_rate=5e-5,\n",
    "                no_cuda=False,\n",
    "                metric_for_best_model='root_mean_squared_error',\n",
    "                greater_is_better=False,\n",
    "                load_best_model_at_end=True,\n",
    "                save_steps=N_EVAL_STEPS * 100_000,\n",
    "                # we never want to save a model through this function, but the parameter must be set, because of load_best_model_at_end=True\n",
    "                save_total_limit=1,  # can be 1, because we only save, when we find a better model\n",
    "                eval_steps=N_EVAL_STEPS,\n",
    "                evaluation_strategy='steps',\n",
    "                seed=k,\n",
    "                logging_steps=n_log_steps,\n",
    "                logging_dir=f'{EXPERIMENT_DIR}/logs/member_{k}',\n",
    "                logging_strategy='steps',\n",
    "            )\n",
    "\n",
    "            set_seed(training_args.seed)\n",
    "            model = AutoModelForSequenceClassification.from_pretrained(\n",
    "                get_hugging_face_name(MODEL_NAME), num_labels=1\n",
    "            )\n",
    "\n",
    "            trainer = RegressionTrainer(\n",
    "                model=model,\n",
    "                args=training_args,\n",
    "                train_dataset=training_dataset,\n",
    "                eval_dataset=early_stopping_dataset,\n",
    "                compute_metrics=compute_metrics_for_regression,\n",
    "                callbacks=[OptimizedESCallback(patience=5, initial_steps_wo_save=300)],\n",
    "            )\n",
    "            # training\n",
    "            trainer.train()\n",
    "\n",
    "            # save model\n",
    "            model.save_pretrained(f'{EXPERIMENT_DIR}/models/{MODEL_NAME}/{hash}')\n",
    "\n",
    "        # fetch feature layer for captum\n",
    "        hidden_state_val_fold = extract_hidden_state(model, tokens_val_fold)\n",
    "\n",
    "        # normalize data with StandardScaler\n",
    "        scaler = StandardScaler()\n",
    "        scaler.fit(df_train_folds[feature_columns].values)\n",
    "        X_val_fold_features_scaled = scaler.transform(X_val_fold_features)\n",
    "        X_val_fold_with_features = np.concatenate((hidden_state_val_fold.detach().numpy(), X_val_fold_features_scaled),\n",
    "                                                  axis=1)\n",
    "\n",
    "        # load MLP model and, if necessary, train it\n",
    "        \n",
    "        # 假设 MLP 是一个自定义的 PyTorch 模型类\n",
    "        # Input layer size = Transformer hidden state dimension + manual feature dimension\n",
    "        # One hidden layer (with ReLU activation)\n",
    "        # Output layer mapping to a single value (regression prediction)\n",
    "        class MLP(nn.Module):\n",
    "            def __init__(self, input_size, hidden_size):\n",
    "                super(MLP, self).__init__()\n",
    "                self.layers = nn.Sequential(\n",
    "                    nn.Linear(input_size, hidden_size),\n",
    "                    nn.ReLU(),\n",
    "                    nn.Linear(hidden_size, 1)\n",
    "                )\n",
    "            \n",
    "            def forward(self, x):\n",
    "                return self.layers(x)\n",
    "        \n",
    "        # load or train model\n",
    "        try:\n",
    "            print('一定看看哈')\n",
    "            \n",
    "            model_path = f'{EXPERIMENT_DIR}/models/mlp/{hash}.pth'\n",
    "            print(model_path)\n",
    "            mlp = MLP(model.config.hidden_size + len(feature_columns), model.config.hidden_size)\n",
    "            mlp.load_state_dict(torch.load(model_path))\n",
    "            mlp.eval()\n",
    "        \n",
    "        except Exception:\n",
    "            # 提取隐藏状态等操作保持不变\n",
    "            hidden_state_train = extract_hidden_state(model, tokens_training)\n",
    "            hidden_state_early_stopping = extract_hidden_state(model, tokens_early_stopping)\n",
    "        \n",
    "            np.random.seed(k)\n",
    "            # 初始化模型\n",
    "            mlp = MLP(model.config.hidden_size + len(feature_columns), model.config.hidden_size)\n",
    "        \n",
    "            # 定义损失函数和优化器\n",
    "            criterion = nn.MSELoss()\n",
    "            optimizer = optim.RMSprop(mlp.parameters())\n",
    "        \n",
    "            # 数据标准化\n",
    "            scaler = StandardScaler()\n",
    "            scaler.fit(X_training_features)\n",
    "            X_train_features_scaled = scaler.transform(X_training_features)\n",
    "            X_es_features_scaled = scaler.transform(X_early_stopping_features)\n",
    "        \n",
    "            X_train_with_features = np.concatenate((hidden_state_train.detach().numpy(), X_train_features_scaled), axis=1)\n",
    "            X_es_with_features = np.concatenate((hidden_state_early_stopping.detach().numpy(), X_es_features_scaled), axis=1)\n",
    "        \n",
    "            # 将数据转换为 PyTorch 张量\n",
    "            train_tensor = torch.tensor(X_train_with_features, dtype=torch.float32)\n",
    "            train_labels = torch.tensor(y_training, dtype=torch.float32).view(-1, 1)\n",
    "            es_tensor = torch.tensor(X_es_with_features, dtype=torch.float32)\n",
    "            es_labels = torch.tensor(y_early_stopping, dtype=torch.float32).view(-1, 1)\n",
    "        \n",
    "            # 训练循环\n",
    "            for epoch in range(200):  # 进行 50 轮训练\n",
    "                optimizer.zero_grad()  # 梯度清零\n",
    "                outputs = mlp(train_tensor)  # 前向传播\n",
    "                loss = criterion(outputs, train_labels)  # 计算损失\n",
    "                loss.backward()  # 反向传播\n",
    "                optimizer.step()  # 更新参数\n",
    "        \n",
    "                with torch.no_grad():\n",
    "                    val_outputs = mlp(es_tensor)\n",
    "                    val_loss = criterion(val_outputs, es_labels)\n",
    "                    print(f'Epoch [{epoch+1}/50], Loss: {loss.item():.4f}, Val Loss: {val_loss.item():.4f}')\n",
    "        \n",
    "            # 保存模型\n",
    "\n",
    "            torch.save(mlp.state_dict(), model_path)\n",
    "        \n",
    "        # 使用模型进行预测\n",
    "        mlp.eval()\n",
    "        with torch.no_grad():\n",
    "            val_tensor = torch.tensor(X_val_fold_with_features, dtype=torch.float32)\n",
    "            prediction_val_fold = mlp(val_tensor).numpy()\n",
    "        \n",
    "        df_predictions_val_fold[f'{MODEL_NAME}_prediction_{k}'] = prediction_val_fold\n",
    "    \n",
    "    return df_predictions_val_fold\n",
    "\n",
    "# it extracts the hidden states from the final layer of the model's output\n",
    "def extract_hidden_state(model, tokens, batch_size=16):\n",
    "    last_last_hidden_state = torch.zeros((len(tokens.input_ids), model.config.hidden_size))\n",
    "    model = model.cuda().eval()\n",
    "    with torch.no_grad():\n",
    "        for i in range(0, len(tokens.input_ids), batch_size):\n",
    "            if i + batch_size > len(tokens.input_ids):\n",
    "                input_i = tokens.input_ids[i:]\n",
    "            else:\n",
    "                input_i = tokens.input_ids[i:i + batch_size]\n",
    "            output = model(input_i.cuda(), output_hidden_states=True)\n",
    "            last_hidden_state = output.hidden_states[-1].cpu()\n",
    "            idx_last_token = torch.zeros(len(input_i)).long()\n",
    "            last_last_hidden_state[i:i + len(idx_last_token)] = last_hidden_state[\n",
    "                torch.arange(len(idx_last_token)), idx_last_token]\n",
    "    return last_last_hidden_state\n",
    "\n"
   ]
  },
  {
   "cell_type": "code",
   "execution_count": null,
   "id": "6d28c289-40b7-4cb6-8753-b9efeb9dc946",
   "metadata": {},
   "outputs": [],
   "source": []
  },
  {
   "cell_type": "code",
   "execution_count": 3,
   "id": "414506c9-130d-4d59-a75b-8988bb6ec35c",
   "metadata": {},
   "outputs": [],
   "source": [
    "\n",
    "# dataframe for each metric for each model for each ensemble size\n",
    "# 3d array: [ensemble_size, model_index, metric_index]\n",
    "df_macro_ensemble_scores = pd.DataFrame(\n",
    "    columns=[\n",
    "        'ensemble_size',\n",
    "        'model_name',\n",
    "        'mean_absolute_error_mean',\n",
    "        'mean_absolute_error_std',\n",
    "        'mean_squared_error_mean',\n",
    "        'mean_squared_error_std',\n",
    "        'root_mean_squared_error_mean',\n",
    "        'root_mean_squared_error_std',\n",
    "    ]\n",
    ")\n"
   ]
  },
  {
   "cell_type": "code",
   "execution_count": 4,
   "id": "cdbae3f5-37ae-419f-a4dc-4d8eff614f87",
   "metadata": {},
   "outputs": [],
   "source": [
    "# 做一个单独的"
   ]
  },
  {
   "cell_type": "code",
   "execution_count": null,
   "id": "0e30bfa4-4a8e-4a82-be44-160cf37bf27b",
   "metadata": {},
   "outputs": [],
   "source": []
  },
  {
   "cell_type": "code",
   "execution_count": null,
   "id": "d40d0b9d-13ad-4515-81e5-7705cc66b159",
   "metadata": {},
   "outputs": [],
   "source": []
  },
  {
   "cell_type": "code",
   "execution_count": null,
   "id": "a1cf5924-5633-46e9-8a21-cba3ab709641",
   "metadata": {},
   "outputs": [],
   "source": []
  },
  {
   "cell_type": "code",
   "execution_count": 5,
   "id": "cd6236b8-b867-40db-9b32-4ad3d6987421",
   "metadata": {},
   "outputs": [],
   "source": []
  },
  {
   "cell_type": "code",
   "execution_count": 6,
   "id": "c673b259-1085-4c76-92dd-52afbeb60ebd",
   "metadata": {},
   "outputs": [],
   "source": [
    "#A custom forward propagation function, During the interpretation process, Captum invokes this function and calculates the importance of each input feature based on the returned results.\n",
    "def custom_forward(inputs):\n",
    "    preds = predict(inputs)\n",
    "    print(preds)\n",
    "    return preds"
   ]
  },
  {
   "cell_type": "code",
   "execution_count": 7,
   "id": "57c6c9a0-77bb-4908-984e-e47f17f3781c",
   "metadata": {},
   "outputs": [],
   "source": [
    "def predict(inputs):\n",
    "    #print('model(inputs): ', model(inputs))\n",
    "    return model(inputs)[0]\n",
    "\n",
    "def construct_input_ref_pair(text, ref_token_id, sep_token_id, cls_token_id):\n",
    "\n",
    "    text_ids = tokenizer.encode(text, add_special_tokens=False)\n",
    "    # construct input token ids\n",
    "    input_ids = [cls_token_id] + text_ids + [sep_token_id]\n",
    "    # construct reference token ids \n",
    "    ref_input_ids = [cls_token_id] + [ref_token_id] * len(text_ids) + [sep_token_id]\n",
    "\n",
    "    return torch.tensor([input_ids], device=device), torch.tensor([ref_input_ids], device=device), len(text_ids)\n",
    "\n",
    "# For Bert, the input consists not only of token IDs but also includes token type IDs to distinguish between different sentence segments.\n",
    "def construct_input_ref_token_type_pair(input_ids, sep_ind=0):\n",
    "    seq_len = input_ids.size(1)\n",
    "    token_type_ids = torch.tensor([[0 if i <= sep_ind else 1 for i in range(seq_len)]], device=device)\n",
    "    ref_token_type_ids = torch.zeros_like(token_type_ids, device=device)# * -1\n",
    "    return token_type_ids, ref_token_type_ids\n",
    "\n",
    "# construct position ids\n",
    "def construct_input_ref_pos_id_pair(input_ids):\n",
    "    seq_length = input_ids.size(1)\n",
    "    position_ids = torch.arange(seq_length, dtype=torch.long, device=device)\n",
    "    # we could potentially also use random permutation with `torch.randperm(seq_length, device=device)`\n",
    "    ref_position_ids = torch.zeros(seq_length, dtype=torch.long, device=device)\n",
    "\n",
    "    position_ids = position_ids.unsqueeze(0).expand_as(input_ids)\n",
    "    ref_position_ids = ref_position_ids.unsqueeze(0).expand_as(input_ids)\n",
    "    return position_ids, ref_position_ids\n",
    "\n",
    "# construct attention mask\n",
    "def construct_attention_mask(input_ids):\n",
    "    return torch.ones_like(input_ids)\n"
   ]
  },
  {
   "cell_type": "code",
   "execution_count": 8,
   "id": "c40bc175-ef00-42a5-8147-71f49bb57161",
   "metadata": {},
   "outputs": [],
   "source": [
    "# The AutoTokenizer is used to load the tokenizer corresponding to the model.\n",
    "tokenizer = AutoTokenizer.from_pretrained(get_hugging_face_name(MODEL_NAME))\n",
    "ref_token_id = tokenizer.pad_token_id # A token used for generating token reference\n",
    "sep_token_id = tokenizer.sep_token_id # A token used as a separator between question and text and it is also added to the end of the text.\n",
    "cls_token_id = tokenizer.cls_token_id # A token used for mark the beginning of sequences, prepending to the concatenated question-text word sequence"
   ]
  },
  {
   "cell_type": "code",
   "execution_count": null,
   "id": "01a316dd-7534-4842-b4a9-c701bf09beeb",
   "metadata": {},
   "outputs": [],
   "source": []
  },
  {
   "cell_type": "code",
   "execution_count": null,
   "id": "dcd63b13-0ea8-4534-8c4d-ceacb2d0232f",
   "metadata": {},
   "outputs": [],
   "source": []
  },
  {
   "cell_type": "code",
   "execution_count": null,
   "id": "507cab30-2c7c-4a6d-a244-cfdd5144f8ea",
   "metadata": {},
   "outputs": [],
   "source": []
  },
  {
   "cell_type": "code",
   "execution_count": null,
   "id": "1639c8cc-4ef8-4fbe-a0b1-adb18625390f",
   "metadata": {},
   "outputs": [],
   "source": []
  },
  {
   "cell_type": "code",
   "execution_count": 9,
   "id": "89c63035-cbaa-476f-97b4-1c9a93e1d06d",
   "metadata": {},
   "outputs": [],
   "source": [
    "from transformers import BertTokenizer, BertForSequenceClassification, BertConfig\n",
    "from captum.attr import visualization as viz\n",
    "from captum.attr import IntegratedGradients, LayerConductance, LayerIntegratedGradients\n",
    "from captum.attr import configure_interpretable_embedding_layer, remove_interpretable_embedding_layer\n",
    "import torch\n",
    "import matplotlib.pyplot as plt\n",
    "import captum\n",
    "device = torch.device(\"cuda:0\" if torch.cuda.is_available() else \"cpu\")\n",
    "model = AutoModelForSequenceClassification.from_pretrained(\n",
    "                f'{EXPERIMENT_DIR}/models/{MODEL_NAME}/3221b14132ce1811b5cd73c4108382bd480e30138c2fadf6908e413349c00d49_gbert-large', local_files_only=True, num_labels=1\n",
    "            ).to(device)\n",
    "\n",
    "lig = LayerIntegratedGradients(custom_forward, model.bert.embeddings)"
   ]
  },
  {
   "cell_type": "code",
   "execution_count": 10,
   "id": "b3ed4795-d01a-420b-9501-ed17c7d92080",
   "metadata": {},
   "outputs": [],
   "source": [
    "text =  \"Kochbücher propagierten ab 1651 die „Haute Cuisine“, die von den ersten Restaurants fortan adaptiert wurde.\" #\"The movie was one of those amazing movies\"#\"The movie was one of those amazing movies you can not forget\"\n"
   ]
  },
  {
   "cell_type": "code",
   "execution_count": 11,
   "id": "8fa5bbc1-9ccb-4419-bb9d-7f83eb98692d",
   "metadata": {},
   "outputs": [],
   "source": [
    "# Constructs input and reference input\n",
    "input_ids, ref_input_ids, sep_id = construct_input_ref_pair(text, ref_token_id, sep_token_id, cls_token_id)\n",
    "\n",
    "# Constructs token type information\n",
    "token_type_ids, ref_token_type_ids = construct_input_ref_token_type_pair(input_ids, sep_id)\n",
    "\n",
    "# Constructs position ID information\n",
    "position_ids, ref_position_ids = construct_input_ref_pos_id_pair(input_ids)\n",
    "\n",
    "# Generates attention masks\n",
    "attention_mask = construct_attention_mask(input_ids)\n",
    "\n",
    "# Retrieves the corresponding string representations of tokens\n",
    "indices = input_ids[0].detach().tolist()\n",
    "all_tokens = tokenizer.convert_ids_to_tokens(indices)"
   ]
  },
  {
   "cell_type": "code",
   "execution_count": 12,
   "id": "fd4a3bdd-4239-477c-8b8a-b97f0a3f5092",
   "metadata": {},
   "outputs": [],
   "source": [
    "##saved_act = None\n",
    "def save_act(module, inp, out):\n",
    "  #global saved_act\n",
    "  saved_act = out\n",
    "  return saved_act\n",
    "\n",
    "# test hook\n",
    "hook = model.bert.embeddings.register_forward_hook(save_act)"
   ]
  },
  {
   "cell_type": "code",
   "execution_count": 13,
   "id": "4fea0368-094c-40bf-a499-eb8b802fef6b",
   "metadata": {},
   "outputs": [],
   "source": [
    "hook.remove()"
   ]
  },
  {
   "cell_type": "code",
   "execution_count": 14,
   "id": "9d0be1bc-4203-4ead-9812-f6c2775d52d1",
   "metadata": {},
   "outputs": [
    {
     "data": {
      "text/plain": [
       "tensor([[1, 1, 1, 1, 1, 1, 1, 1, 1, 1, 1, 1, 1, 1, 1, 1, 1, 1, 1, 1, 1, 1, 1, 1,\n",
       "         1, 1, 1, 1, 1]], device='cuda:0')"
      ]
     },
     "execution_count": 14,
     "metadata": {},
     "output_type": "execute_result"
    }
   ],
   "source": [
    "attention_mask"
   ]
  },
  {
   "cell_type": "code",
   "execution_count": 15,
   "id": "5640b246-a04c-4ff5-8904-a4d3503f6df4",
   "metadata": {},
   "outputs": [
    {
     "name": "stdout",
     "output_type": "stream",
     "text": [
      "tensor([[3.2616]], device='cuda:0', grad_fn=<AddmmBackward0>)\n"
     ]
    },
    {
     "data": {
      "text/plain": [
       "torch.Size([1, 29])"
      ]
     },
     "execution_count": 15,
     "metadata": {},
     "output_type": "execute_result"
    }
   ],
   "source": [
    "# Check predict output\n",
    "custom_forward(torch.cat([input_ids]).to(device))\n",
    "input_ids.shape"
   ]
  },
  {
   "cell_type": "code",
   "execution_count": null,
   "id": "aa035474-ef9b-4146-a821-7c2697a30807",
   "metadata": {},
   "outputs": [],
   "source": []
  },
  {
   "cell_type": "code",
   "execution_count": 16,
   "id": "a5b403c8-a5b4-4c91-b964-75d1c638fe02",
   "metadata": {},
   "outputs": [
    {
     "data": {
      "text/plain": [
       "tensor([[1.]], device='cuda:0', grad_fn=<SoftmaxBackward0>)"
      ]
     },
     "execution_count": 16,
     "metadata": {},
     "output_type": "execute_result"
    }
   ],
   "source": [
    "pred = predict(input_ids)\n",
    "torch.softmax(pred, dim = 1)\n"
   ]
  },
  {
   "cell_type": "code",
   "execution_count": 17,
   "id": "d652543a-525b-49d4-a587-2622781727a4",
   "metadata": {
    "scrolled": true
   },
   "outputs": [
    {
     "name": "stdout",
     "output_type": "stream",
     "text": [
      "tensor([[3.2616]], device='cuda:0', grad_fn=<AddmmBackward0>)\n"
     ]
    },
    {
     "data": {
      "text/plain": [
       "array([[3.2615592]], dtype=float32)"
      ]
     },
     "execution_count": 17,
     "metadata": {},
     "output_type": "execute_result"
    }
   ],
   "source": [
    "# Check output of custom_forward\n",
    "custom_forward(input_ids).cpu().detach().numpy()"
   ]
  },
  {
   "cell_type": "code",
   "execution_count": 18,
   "id": "9fd8016e-9081-414c-a103-7a173b202660",
   "metadata": {},
   "outputs": [],
   "source": [
    "# constract the input of BERT\n",
    "def construct_whole_bert_embeddings(input_ids, ref_input_ids, \\\n",
    "                                    token_type_ids=None, ref_token_type_ids=None, \\\n",
    "                                    position_ids=None, ref_position_ids=None):\n",
    "    input_embeddings = model.bert.embeddings(input_ids, token_type_ids=token_type_ids, position_ids=position_ids)\n",
    "    ref_input_embeddings = model.bert.embeddings(ref_input_ids, token_type_ids=ref_token_type_ids, position_ids=ref_position_ids)\n",
    "    \n",
    "    return input_embeddings, ref_input_embeddings"
   ]
  },
  {
   "cell_type": "code",
   "execution_count": 19,
   "id": "4c6f0ec8-35bc-4eb5-805e-8bfb786b3ff0",
   "metadata": {},
   "outputs": [],
   "source": [
    "# Captum's attribution methods compute the contribution score of each token to the model's output.\n",
    "def squad_pos_forward_func2(input_emb, attention_mask=None, position=0):\n",
    "    pred = model(inputs_embeds=input_emb, attention_mask=attention_mask, )\n",
    "    pred = pred[position]\n",
    "    return pred.max(1).values"
   ]
  },
  {
   "cell_type": "code",
   "execution_count": 20,
   "id": "5cef13fa-fc55-46d5-b9f8-caf29c5b1ed3",
   "metadata": {},
   "outputs": [],
   "source": [
    "# Captum: compute the contribution score of each token to the model's output.\n",
    "def summarize_attributions(attributions):\n",
    "    attributions = attributions.sum(dim=-1).squeeze(0)\n",
    "    attributions = attributions / torch.norm(attributions)\n",
    "    return attributions\n",
    "if torch.__version__ >= '1.7.0':\n",
    "    norm_fn = torch.linalg.norm\n",
    "else:\n",
    "    norm_fn = torch.norm\n",
    "def summarize_attributions(attributions):\n",
    "    attributions = attributions.sum(dim=-1).squeeze(0)\n",
    "    attributions = attributions / norm_fn(attributions)\n",
    "    return attributions"
   ]
  },
  {
   "cell_type": "code",
   "execution_count": 21,
   "id": "f1898a9b-f096-4876-9a81-8cce9049086f",
   "metadata": {},
   "outputs": [],
   "source": [
    "#layer_attrs_start = []\n",
    "layer_attrs = []\n",
    "\n",
    "\n",
    "\n",
    "input_embeddings, ref_input_embeddings = construct_whole_bert_embeddings(input_ids, ref_input_ids, \\\n",
    "                                         token_type_ids=token_type_ids, ref_token_type_ids=ref_token_type_ids, \\\n",
    "                                         position_ids=position_ids, ref_position_ids=ref_position_ids)\n",
    "\n",
    "\n",
    "# captum work\n",
    "for i in range(model.config.num_hidden_layers):\n",
    "    lc = LayerConductance(squad_pos_forward_func2, model.bert.encoder.layer[i])\n",
    "    #layer_attributions_start = lc.attribute(inputs=input_embeddings, baselines=ref_input_embeddings)\n",
    "    layer_attributions = lc.attribute(inputs=input_embeddings, baselines=ref_input_embeddings)\n",
    "    #layer_attrs_start.append(summarize_attributions(layer_attributions_start).cpu().detach().tolist())\n",
    "    layer_attrs.append(summarize_attributions(layer_attributions).cpu().detach().tolist())\n"
   ]
  },
  {
   "cell_type": "code",
   "execution_count": null,
   "id": "71cdba34-985d-42c9-80d9-0e41cf618c9c",
   "metadata": {},
   "outputs": [],
   "source": []
  },
  {
   "cell_type": "code",
   "execution_count": 22,
   "id": "6d95b436-3666-4722-9baf-3a149ec087f6",
   "metadata": {},
   "outputs": [],
   "source": [
    "xticklabels=all_tokens"
   ]
  },
  {
   "cell_type": "code",
   "execution_count": 23,
   "id": "c44fa464-7dfa-41b0-aff8-2b0e77535004",
   "metadata": {},
   "outputs": [
    {
     "data": {
      "text/plain": [
       "['[CLS]',\n",
       " 'Koch',\n",
       " '##bücher',\n",
       " 'propag',\n",
       " '##ierten',\n",
       " 'ab',\n",
       " '165',\n",
       " '##1',\n",
       " 'die',\n",
       " '„',\n",
       " 'Haut',\n",
       " '##e',\n",
       " 'Cu',\n",
       " '##isi',\n",
       " '##ne',\n",
       " '“',\n",
       " ',',\n",
       " 'die',\n",
       " 'von',\n",
       " 'den',\n",
       " 'ersten',\n",
       " 'Restaurants',\n",
       " 'fortan',\n",
       " 'ad',\n",
       " '##ap',\n",
       " '##tiert',\n",
       " 'wurde',\n",
       " '.',\n",
       " '[SEP]']"
      ]
     },
     "execution_count": 23,
     "metadata": {},
     "output_type": "execute_result"
    }
   ],
   "source": [
    "xticklabels"
   ]
  },
  {
   "cell_type": "code",
   "execution_count": 107,
   "id": "a14eed44-6458-4259-be09-f0dbca3811e3",
   "metadata": {},
   "outputs": [
    {
     "data": {
      "text/plain": [
       "array([ 0.08290801, -0.05249229,  0.10127155,  0.36656749,  0.07800661,\n",
       "        0.02380109,  0.19420964,  0.05539912,  0.13614352,  0.21676602,\n",
       "        0.37085181,  0.07609207, -0.00092538,  0.01530746,  0.09094104,\n",
       "        0.10936626,  0.16336048,  0.14793985,  0.11470334,  0.1096538 ,\n",
       "        0.1154531 ,  0.04561547,  0.24581056, -0.03978275, -0.16432641,\n",
       "       -0.01091025,  0.07321978,  0.16647994,  0.07599755])"
      ]
     },
     "execution_count": 107,
     "metadata": {},
     "output_type": "execute_result"
    }
   ],
   "source": [
    "np.mean(np.array(layer_attrs),axis=0)"
   ]
  },
  {
   "cell_type": "code",
   "execution_count": 25,
   "id": "ac0e4d0a-2225-4aad-b539-4c4135365393",
   "metadata": {},
   "outputs": [],
   "source": []
  },
  {
   "cell_type": "code",
   "execution_count": 26,
   "id": "ed8257a4-2785-4721-9a4a-860c59e21214",
   "metadata": {},
   "outputs": [
    {
     "data": {
      "image/png": "[encoded data removed]",
      "text/plain": [
       "<Figure size 1200x600 with 1 Axes>"
      ]
     },
     "metadata": {},
     "output_type": "display_data"
    }
   ],
   "source": [
    "values = np.mean(np.array(layer_attrs),axis=0) #取所有层的平均值\n",
    "# 创建柱状图\n",
    "plt.figure(figsize=(12, 6))\n",
    "plt.bar(xticklabels, values)\n",
    "\n",
    "# 添加标签和标题\n",
    "plt.xlabel('Tokens')\n",
    "plt.ylabel('Values')\n",
    "plt.title('Bar Chart of Token Values')\n",
    "\n",
    "# 旋转x轴标签以便更好地显示\n",
    "plt.xticks(rotation=45, ha='right')\n",
    "\n",
    "# 显示图形\n",
    "plt.tight_layout()\n",
    "plt.show()\n"
   ]
  },
  {
   "cell_type": "code",
   "execution_count": 115,
   "id": "0e78928f-20f9-43cf-b232-f0b75b35eb61",
   "metadata": {},
   "outputs": [
    {
     "name": "stdout",
     "output_type": "stream",
     "text": [
      "Top five words : ['Haute', 'propagierten', '1651']\n",
      "contribution values: [0.4469438809222387, 0.444574096684543, 0.2496087642988035]\n"
     ]
    }
   ],
   "source": [
    "# Merging Subword Contributions, marked by \"##\"\n",
    "merged_words = []\n",
    "merged_values = []\n",
    "temp_word = \"\"\n",
    "temp_value = 0\n",
    "\n",
    "for word, value in zip(xticklabels, values):\n",
    "    if word.startswith('##'):\n",
    "        temp_word += word[2:]\n",
    "        temp_value += value\n",
    "    else:\n",
    "        if temp_word:\n",
    "            merged_words.append(temp_word)\n",
    "            merged_values.append(temp_value)\n",
    "            temp_word = \"\"\n",
    "            temp_value = 0\n",
    "        temp_word = word\n",
    "        temp_value = value\n",
    "\n",
    "if temp_word:\n",
    "    merged_words.append(temp_word)\n",
    "    merged_values.append(temp_value)\n",
    "\n",
    "# 贡献值最大的前三项\n",
    "top_five_indices = sorted(range(len(merged_values)), key=lambda i: merged_values[i], reverse=True)[:5]\n",
    "top_five_words = [merged_words[i] for i in top_five_indices]\n",
    "top_five_values = [merged_values[i] for i in top_five_indices]\n",
    "\n",
    "print(\"Top five words :\", top_five_words)\n",
    "print(\"contribution values:\", top_five_values)\n",
    "\n",
    "\n"
   ]
  },
  {
   "cell_type": "code",
   "execution_count": null,
   "id": "efeba909-ff65-4471-aac5-ff37135e2725",
   "metadata": {},
   "outputs": [],
   "source": []
  },
  {
   "cell_type": "code",
   "execution_count": null,
   "id": "28ac3ba2-3e93-4972-ab82-30edd05b63e7",
   "metadata": {},
   "outputs": [],
   "source": []
  },
  {
   "cell_type": "code",
   "execution_count": 110,
   "id": "7210cf51-c377-464d-a83b-c82dac857f22",
   "metadata": {},
   "outputs": [
    {
     "name": "stdout",
     "output_type": "stream",
     "text": [
      "tensor([[3.2616]], device='cuda:0', grad_fn=<AddmmBackward0>)\n"
     ]
    },
    {
     "data": {
      "text/plain": [
       "array([[3.2615592]], dtype=float32)"
      ]
     },
     "execution_count": 110,
     "metadata": {},
     "output_type": "execute_result"
    }
   ],
   "source": [
    "# Check output of custom_forward\n",
    "custom_forward(input_ids).cpu().detach().numpy()"
   ]
  },
  {
   "cell_type": "code",
   "execution_count": 88,
   "id": "b549d841-fc01-4408-b021-c9b4eff3e336",
   "metadata": {},
   "outputs": [
    {
     "data": {
      "image/png": "[encoded data removed]",
      "text/plain": [
       "<Figure size 1500x500 with 2 Axes>"
      ]
     },
     "metadata": {},
     "output_type": "display_data"
    }
   ],
   "source": [
    "import seaborn as sns\n",
    "\n",
    "fig, ax = plt.subplots(figsize=(15,5))\n",
    "\n",
    "yticklabels=list(range(1,13))\n",
    "ax = sns.heatmap(np.array(layer_attrs_start), xticklabels=xticklabels, yticklabels=yticklabels, linewidth=0.2)\n",
    "plt.xlabel('Tokens')\n",
    "plt.ylabel('Layers')\n",
    "plt.show()"
   ]
  },
  {
   "cell_type": "code",
   "execution_count": 55,
   "id": "57d78fcd-9ed5-4f7d-931c-1d417046e3c7",
   "metadata": {},
   "outputs": [],
   "source": [
    "attributions_main, delta_main = lig.attribute(inputs=input_ids,\n",
    "                                    baselines=ref_input_ids,\n",
    "                                    n_steps=7000,\n",
    "                                    internal_batch_size=3,\n",
    "                                    return_convergence_delta=True)"
   ]
  },
  {
   "cell_type": "code",
   "execution_count": 56,
   "id": "eba7484f-f54a-4e5e-9a16-fe04446b3049",
   "metadata": {},
   "outputs": [],
   "source": [
    "attributions, delta = lig.attribute(inputs=input_ids,\n",
    "                                    baselines=ref_input_ids,\n",
    "                                    n_steps=7000,\n",
    "                                    internal_batch_size=5,\n",
    "                                    return_convergence_delta=True)"
   ]
  },
  {
   "cell_type": "code",
   "execution_count": 57,
   "id": "d2186bfc-07e3-4cde-9810-024e5566f817",
   "metadata": {},
   "outputs": [
    {
     "data": {
      "text/plain": [
       "(tensor(0., device='cuda:0', dtype=torch.float64),\n",
       " tensor(0., device='cuda:0', dtype=torch.float64))"
      ]
     },
     "execution_count": 57,
     "metadata": {},
     "output_type": "execute_result"
    }
   ],
   "source": [
    "torch.sum(attributions_main), torch.sum(attributions)"
   ]
  },
  {
   "cell_type": "code",
   "execution_count": 58,
   "id": "ac1bfbd9-6277-42fa-9186-6d749cfc6631",
   "metadata": {},
   "outputs": [
    {
     "data": {
      "text/plain": [
       "(tensor([0.], device='cuda:0', dtype=torch.float64),\n",
       " tensor([0.], device='cuda:0', dtype=torch.float64))"
      ]
     },
     "execution_count": 58,
     "metadata": {},
     "output_type": "execute_result"
    }
   ],
   "source": [
    "delta, delta_main"
   ]
  },
  {
   "cell_type": "code",
   "execution_count": 59,
   "id": "65064c0d-0253-4322-8123-06989163526d",
   "metadata": {},
   "outputs": [
    {
     "ename": "NameError",
     "evalue": "name 'score' is not defined",
     "output_type": "error",
     "traceback": [
      "\u001b[0;31m---------------------------------------------------------------------------\u001b[0m",
      "\u001b[0;31mNameError\u001b[0m                                 Traceback (most recent call last)",
      "Cell \u001b[0;32mIn[59], line 1\u001b[0m\n\u001b[0;32m----> 1\u001b[0m torch\u001b[38;5;241m.\u001b[39margmax(\u001b[43mscore\u001b[49m[\u001b[38;5;241m0\u001b[39m])\u001b[38;5;241m.\u001b[39mcpu()\u001b[38;5;241m.\u001b[39mnumpy()\n",
      "\u001b[0;31mNameError\u001b[0m: name 'score' is not defined"
     ]
    }
   ],
   "source": [
    "torch.argmax(score[0]).cpu().numpy()"
   ]
  },
  {
   "cell_type": "code",
   "execution_count": null,
   "id": "380b060c-e4ea-4f64-af1b-e4eb47e12faf",
   "metadata": {},
   "outputs": [],
   "source": [
    "torch.softmax(score, dim = 1)[0][1].cpu().detach().numpy()"
   ]
  },
  {
   "cell_type": "code",
   "execution_count": 64,
   "id": "1c1e8b68-d5a4-41d5-9c0a-1545ca2058bc",
   "metadata": {},
   "outputs": [
    {
     "data": {
      "text/plain": [
       "tensor([[  102,  7245, 10938, 29656,  1082,   404, 24959, 30908,   128,   498,\n",
       "          6756, 30881, 23205, 15631,   382,  2087,   818,   128,   195,   190,\n",
       "           940,  9276, 15993,  3668,   496,  1707,   325,   566,   103]],\n",
       "       device='cuda:0')"
      ]
     },
     "execution_count": 64,
     "metadata": {},
     "output_type": "execute_result"
    }
   ],
   "source": [
    "input_ids"
   ]
  },
  {
   "cell_type": "code",
   "execution_count": null,
   "id": "efb05c43-3644-40db-8051-ed0067a8a7ac",
   "metadata": {},
   "outputs": [],
   "source": []
  },
  {
   "cell_type": "code",
   "execution_count": 61,
   "id": "de55d965-721c-44cb-b455-f4cb5772ec09",
   "metadata": {},
   "outputs": [
    {
     "data": {
      "text/plain": [
       "tensor([[3.2616]], device='cuda:0', grad_fn=<AddmmBackward0>)"
      ]
     },
     "execution_count": 61,
     "metadata": {},
     "output_type": "execute_result"
    }
   ],
   "source": [
    "score"
   ]
  },
  {
   "cell_type": "code",
   "execution_count": 60,
   "id": "ba2a3427-0462-4ade-984c-ddbe2b129059",
   "metadata": {},
   "outputs": [
    {
     "name": "stdout",
     "output_type": "stream",
     "text": [
      "Sentence:  Kochbücher propagierten ab 1651 die „Haute Cuisine“, die von den ersten Restaurants fortan adaptiert wurde.\n"
     ]
    },
    {
     "ename": "IndexError",
     "evalue": "index 1 is out of bounds for dimension 0 with size 1",
     "output_type": "error",
     "traceback": [
      "\u001b[0;31m---------------------------------------------------------------------------\u001b[0m",
      "\u001b[0;31mIndexError\u001b[0m                                Traceback (most recent call last)",
      "Cell \u001b[0;32mIn[60], line 5\u001b[0m\n\u001b[1;32m      1\u001b[0m score \u001b[38;5;241m=\u001b[39m predict(input_ids)\n\u001b[1;32m      3\u001b[0m \u001b[38;5;28mprint\u001b[39m(\u001b[38;5;124m'\u001b[39m\u001b[38;5;124mSentence: \u001b[39m\u001b[38;5;124m'\u001b[39m, text)\n\u001b[1;32m      4\u001b[0m \u001b[38;5;28mprint\u001b[39m(\u001b[38;5;124m'\u001b[39m\u001b[38;5;124mSentiment: \u001b[39m\u001b[38;5;124m'\u001b[39m \u001b[38;5;241m+\u001b[39m \u001b[38;5;28mstr\u001b[39m(torch\u001b[38;5;241m.\u001b[39margmax(score[\u001b[38;5;241m0\u001b[39m])\u001b[38;5;241m.\u001b[39mcpu()\u001b[38;5;241m.\u001b[39mnumpy()) \u001b[38;5;241m+\u001b[39m \\\n\u001b[0;32m----> 5\u001b[0m       \u001b[38;5;124m'\u001b[39m\u001b[38;5;124m, Probability positive: \u001b[39m\u001b[38;5;124m'\u001b[39m \u001b[38;5;241m+\u001b[39m \u001b[38;5;28mstr\u001b[39m(\u001b[43mtorch\u001b[49m\u001b[38;5;241;43m.\u001b[39;49m\u001b[43msoftmax\u001b[49m\u001b[43m(\u001b[49m\u001b[43mscore\u001b[49m\u001b[43m,\u001b[49m\u001b[43m \u001b[49m\u001b[43mdim\u001b[49m\u001b[43m \u001b[49m\u001b[38;5;241;43m=\u001b[39;49m\u001b[43m \u001b[49m\u001b[38;5;241;43m1\u001b[39;49m\u001b[43m)\u001b[49m\u001b[43m[\u001b[49m\u001b[38;5;241;43m0\u001b[39;49m\u001b[43m]\u001b[49m\u001b[43m[\u001b[49m\u001b[38;5;241;43m1\u001b[39;49m\u001b[43m]\u001b[49m\u001b[38;5;241m.\u001b[39mcpu()\u001b[38;5;241m.\u001b[39mdetach()\u001b[38;5;241m.\u001b[39mnumpy()))\n",
      "\u001b[0;31mIndexError\u001b[0m: index 1 is out of bounds for dimension 0 with size 1"
     ]
    }
   ],
   "source": [
    "score = predict(input_ids)\n",
    "\n",
    "print('Sentence: ', text)\n",
    "print('Sentiment: ' + str(torch.argmax(score[0]).cpu().numpy()) + \\\n",
    "      ', Probability positive: ' + str(torch.softmax(score, dim = 1)[0][1].cpu().detach().numpy()))"
   ]
  },
  {
   "cell_type": "code",
   "execution_count": null,
   "id": "3ff52941-4a07-4b92-a5b9-68d71efb8dfd",
   "metadata": {},
   "outputs": [],
   "source": [
    "def summarize_attributions(attributions):\n",
    "    attributions = attributions.sum(dim=-1).squeeze(0)\n",
    "    attributions = attributions / torch.norm(attributions)\n",
    "    return attributions"
   ]
  },
  {
   "cell_type": "code",
   "execution_count": null,
   "id": "f86f1384-6292-4206-a49f-1002518190a6",
   "metadata": {},
   "outputs": [],
   "source": [
    "attributions_sum = summarize_attributions(attributions)"
   ]
  },
  {
   "cell_type": "code",
   "execution_count": null,
   "id": "a60ae926-efbc-4b02-a7ce-cf53dd52de22",
   "metadata": {},
   "outputs": [],
   "source": [
    "# storing couple samples in an array for visualization purposes\n",
    "score_vis = viz.VisualizationDataRecord(attributions_sum,\n",
    "                                        torch.softmax(score, dim = 1)[0][0],\n",
    "                                        torch.argmax(torch.softmax(score, dim = 1)[0]),\n",
    "                                        1,\n",
    "                                        text,\n",
    "                                        attributions_sum.sum(),       \n",
    "                                        all_tokens,\n",
    "                                        delta)\n"
   ]
  },
  {
   "cell_type": "code",
   "execution_count": null,
   "id": "17b56638-6f7d-4dca-a394-d123c5084d82",
   "metadata": {},
   "outputs": [],
   "source": [
    "print('\\033[1m', 'Visualization For Score', '\\033[0m')\n",
    "viz.visualize_text([score_vis])"
   ]
  },
  {
   "cell_type": "code",
   "execution_count": null,
   "id": "f6af4e4c-767d-41de-845b-86352bb7944f",
   "metadata": {},
   "outputs": [],
   "source": [
    "score"
   ]
  },
  {
   "cell_type": "code",
   "execution_count": null,
   "id": "5136e808-4b92-4ea5-9ed7-e7a003bc821f",
   "metadata": {},
   "outputs": [],
   "source": []
  },
  {
   "cell_type": "code",
   "execution_count": null,
   "id": "ab1ce057-f8ab-402d-beca-7f603ab4bdbd",
   "metadata": {},
   "outputs": [],
   "source": []
  },
  {
   "cell_type": "code",
   "execution_count": 24,
   "id": "38dd77d6-bbbe-42ff-8ac1-df0613d52643",
   "metadata": {},
   "outputs": [],
   "source": []
  },
  {
   "cell_type": "code",
   "execution_count": 25,
   "id": "0faa2d2c-7d6c-4ed6-82f7-c6c771a9d31f",
   "metadata": {},
   "outputs": [],
   "source": []
  },
  {
   "cell_type": "code",
   "execution_count": 26,
   "id": "95109dc0-35e0-497c-bfbc-16906334c126",
   "metadata": {},
   "outputs": [],
   "source": [
    "def get_predictions_captum(\n",
    "        df_train_folds,\n",
    "        df_val_fold,\n",
    "        n_epochs=20,\n",
    "        n_log_steps=10,\n",
    "):\n",
    "    # store predictions in dataframe\n",
    "    # columns: Sentence, Prediction of Model 1, Prediction of Model 2, ...\n",
    "    df_predictions_val_fold = df_val_fold[['ID', 'Sentence DE']].copy()\n",
    "\n",
    "    # get tokenizer\n",
    "    tokenizer = AutoTokenizer.from_pretrained(get_hugging_face_name(MODEL_NAME))\n",
    "\n",
    "    X_val_fold = df_val_fold['Sentence DE'].values\n",
    "    X_val_fold_features = df_val_fold[feature_columns].values\n",
    "\n",
    "    # tokenize\n",
    "    tokens_val_fold = tokenizer(X_val_fold.tolist(), padding='max_length', return_tensors='pt', truncation=True,\n",
    "                                max_length=128)\n",
    "\n",
    "    for k in range(ENSEMBLE_POOL_SIZE):\n",
    "        df_early_stopping = df_train_folds.sample(frac=0.1, random_state=k)\n",
    "        df_train_no_es = df_train_folds.drop(\n",
    "            df_train_folds[\n",
    "                df_train_folds['ID'].isin(df_early_stopping['ID'])\n",
    "            ].index\n",
    "        )\n",
    "\n",
    "        X_early_stopping = df_early_stopping['Sentence DE'].values\n",
    "        X_early_stopping_features = df_early_stopping[feature_columns].values\n",
    "        y_early_stopping = df_early_stopping['MOS'].values\n",
    "\n",
    "        X_training = df_train_no_es['Sentence DE'].values\n",
    "        X_training_features = df_train_no_es[feature_columns].values\n",
    "        y_training = df_train_no_es['MOS'].values\n",
    "\n",
    "        # tokenize\n",
    "        tokens_early_stopping = tokenizer(X_early_stopping.tolist(), padding='max_length', return_tensors='pt',\n",
    "                                          truncation=True, max_length=128)\n",
    "\n",
    "        tokens_training = tokenizer(X_training.tolist(), padding='max_length', return_tensors='pt', truncation=True,\n",
    "                                    max_length=128)\n",
    "\n",
    "        hash = (\n",
    "                hashlib.sha256(\n",
    "                    pd.util.hash_pandas_object(df_train_no_es['ID'], index=True).values\n",
    "                ).hexdigest()\n",
    "                + '_'\n",
    "                + get_hugging_face_name(MODEL_NAME)[\n",
    "                  get_hugging_face_name(MODEL_NAME).find('/') + 1:\n",
    "                  ]\n",
    "        )\n",
    "\n",
    "\n",
    "        print(f'{EXPERIMENT_DIR}/models/{MODEL_NAME}/{hash}')\n",
    "        model = AutoModelForSequenceClassification.from_pretrained(\n",
    "            f'{EXPERIMENT_DIR}/models/{MODEL_NAME}/{hash}', local_files_only=True, num_labels=1\n",
    "        )\n",
    "\n",
    "        # load hidden states of model for validation and test data\n",
    "        hidden_state_val_fold = extract_hidden_state(model, tokens_val_fold)\n",
    "\n",
    "        # normalize data with StandardScaler\n",
    "        scaler = StandardScaler()\n",
    "        scaler.fit(df_train_folds[feature_columns].values)\n",
    "        X_val_fold_features_scaled = scaler.transform(X_val_fold_features)\n",
    "        X_val_fold_with_features = np.concatenate((hidden_state_val_fold.detach().numpy(), X_val_fold_features_scaled),\n",
    "                                                  axis=1)\n",
    "\n",
    "        # load MLP model and, if necessary, train it\n",
    "\n",
    "    \n",
    "        # 假设 MLP 是一个自定义的 PyTorch 模型类\n",
    "        class MLP(nn.Module):\n",
    "            def __init__(self, input_size, hidden_size):\n",
    "                super(MLP, self).__init__()\n",
    "                self.layers = nn.Sequential(\n",
    "                    nn.Linear(input_size, hidden_size),\n",
    "                    nn.ReLU(),\n",
    "                    nn.Linear(hidden_size, 1)\n",
    "                )\n",
    "            \n",
    "            def forward(self, x):\n",
    "                return self.layers(x)\n",
    "        \n",
    "        # 加载或训练模型\n",
    "\n",
    "        print('一定看看哈')\n",
    "        \n",
    "        model_path = f'{EXPERIMENT_DIR}/models/mlp/{hash}.pth'\n",
    "        print(model_path)\n",
    "        mlp = MLP(model.config.hidden_size + len(feature_columns), model.config.hidden_size)\n",
    "        mlp.load_state_dict(torch.load(model_path))\n",
    "        # 使用模型进行预测\n",
    "        mlp.eval()\n",
    "        with torch.no_grad():\n",
    "            val_tensor = torch.tensor(X_val_fold_with_features, dtype=torch.float32)\n",
    "            prediction_val_fold = mlp(val_tensor).numpy()\n",
    "        #print(prediction_val_fold)\n",
    "        #print(len(prediction_val_fold))\n",
    "        df_predictions_val_fold[f'{MODEL_NAME}_prediction_{k}'] = prediction_val_fold\n",
    "    \n",
    "    return df_predictions_val_fold"
   ]
  },
  {
   "cell_type": "code",
   "execution_count": null,
   "id": "03cc502c-8ca9-4234-b2f7-5a689e92c1c2",
   "metadata": {},
   "outputs": [],
   "source": []
  },
  {
   "cell_type": "code",
   "execution_count": null,
   "id": "5739497a-0c91-49f2-8cb6-b6a47fb06d0d",
   "metadata": {},
   "outputs": [],
   "source": []
  },
  {
   "cell_type": "code",
   "execution_count": null,
   "id": "3fc11b02-f096-49ad-a2b6-68db8c2799b6",
   "metadata": {},
   "outputs": [],
   "source": []
  },
  {
   "cell_type": "code",
   "execution_count": null,
   "id": "975e6875-4995-4930-8f27-15c55ef6de88",
   "metadata": {},
   "outputs": [],
   "source": []
  },
  {
   "cell_type": "code",
   "execution_count": null,
   "id": "41c8f11a-9660-4222-915f-fce5494ab643",
   "metadata": {},
   "outputs": [],
   "source": []
  },
  {
   "cell_type": "code",
   "execution_count": 20,
   "id": "8035a5a6-e8de-43af-8e61-88a514dfca6e",
   "metadata": {
    "scrolled": true
   },
   "outputs": [
    {
     "name": "stdout",
     "output_type": "stream",
     "text": [
      "../autodl-tmp/cache/ensemble_gbert/models/gbert/f402bc3bb23ca33d99e56a97d3a2fe6367a51eaa2d91ab6a2c30ca2a720ba61c_gbert-large\n",
      "一定看看哈\n",
      "../autodl-tmp/cache/ensemble_gbert/models/mlp/f402bc3bb23ca33d99e56a97d3a2fe6367a51eaa2d91ab6a2c30ca2a720ba61c_gbert-large.pth\n",
      "500\n",
      "../autodl-tmp/cache/ensemble_gbert/models/gbert/b99a5fa574e336b6ce273fbd95a4364f9490cdef9a3ca0523374dd01f2ab7bb6_gbert-large\n"
     ]
    },
    {
     "name": "stderr",
     "output_type": "stream",
     "text": [
      "/tmp/ipykernel_1321/2356263958.py:93: FutureWarning: You are using `torch.load` with `weights_only=False` (the current default value), which uses the default pickle module implicitly. It is possible to construct malicious pickle data which will execute arbitrary code during unpickling (See https://github.com/pytorch/pytorch/blob/main/SECURITY.md#untrusted-models for more details). In a future release, the default value for `weights_only` will be flipped to `True`. This limits the functions that could be executed during unpickling. Arbitrary objects will no longer be allowed to be loaded via this mode unless they are explicitly allowlisted by the user via `torch.serialization.add_safe_globals`. We recommend you start setting `weights_only=True` for any use case where you don't have full control of the loaded file. Please open an issue on GitHub for any issues related to this experimental feature.\n",
      "  mlp.load_state_dict(torch.load(model_path))\n"
     ]
    },
    {
     "name": "stdout",
     "output_type": "stream",
     "text": [
      "一定看看哈\n",
      "../autodl-tmp/cache/ensemble_gbert/models/mlp/b99a5fa574e336b6ce273fbd95a4364f9490cdef9a3ca0523374dd01f2ab7bb6_gbert-large.pth\n",
      "500\n",
      "../autodl-tmp/cache/ensemble_gbert/models/gbert/be59e5c80374f5116879ba4bcef1744a41554b8523058121eb06afda8be9b438_gbert-large\n"
     ]
    },
    {
     "name": "stderr",
     "output_type": "stream",
     "text": [
      "/tmp/ipykernel_1321/2356263958.py:93: FutureWarning: You are using `torch.load` with `weights_only=False` (the current default value), which uses the default pickle module implicitly. It is possible to construct malicious pickle data which will execute arbitrary code during unpickling (See https://github.com/pytorch/pytorch/blob/main/SECURITY.md#untrusted-models for more details). In a future release, the default value for `weights_only` will be flipped to `True`. This limits the functions that could be executed during unpickling. Arbitrary objects will no longer be allowed to be loaded via this mode unless they are explicitly allowlisted by the user via `torch.serialization.add_safe_globals`. We recommend you start setting `weights_only=True` for any use case where you don't have full control of the loaded file. Please open an issue on GitHub for any issues related to this experimental feature.\n",
      "  mlp.load_state_dict(torch.load(model_path))\n"
     ]
    },
    {
     "name": "stdout",
     "output_type": "stream",
     "text": [
      "一定看看哈\n",
      "../autodl-tmp/cache/ensemble_gbert/models/mlp/be59e5c80374f5116879ba4bcef1744a41554b8523058121eb06afda8be9b438_gbert-large.pth\n",
      "500\n",
      "../autodl-tmp/cache/ensemble_gbert/models/gbert/3221b14132ce1811b5cd73c4108382bd480e30138c2fadf6908e413349c00d49_gbert-large\n"
     ]
    },
    {
     "name": "stderr",
     "output_type": "stream",
     "text": [
      "/tmp/ipykernel_1321/2356263958.py:93: FutureWarning: You are using `torch.load` with `weights_only=False` (the current default value), which uses the default pickle module implicitly. It is possible to construct malicious pickle data which will execute arbitrary code during unpickling (See https://github.com/pytorch/pytorch/blob/main/SECURITY.md#untrusted-models for more details). In a future release, the default value for `weights_only` will be flipped to `True`. This limits the functions that could be executed during unpickling. Arbitrary objects will no longer be allowed to be loaded via this mode unless they are explicitly allowlisted by the user via `torch.serialization.add_safe_globals`. We recommend you start setting `weights_only=True` for any use case where you don't have full control of the loaded file. Please open an issue on GitHub for any issues related to this experimental feature.\n",
      "  mlp.load_state_dict(torch.load(model_path))\n"
     ]
    },
    {
     "name": "stdout",
     "output_type": "stream",
     "text": [
      "一定看看哈\n",
      "../autodl-tmp/cache/ensemble_gbert/models/mlp/3221b14132ce1811b5cd73c4108382bd480e30138c2fadf6908e413349c00d49_gbert-large.pth\n",
      "500\n",
      "../autodl-tmp/cache/ensemble_gbert/models/gbert/16fbad104cd49cc34407917a0564260a5a164c1025737f587630f80c0c845ad1_gbert-large\n"
     ]
    },
    {
     "name": "stderr",
     "output_type": "stream",
     "text": [
      "/tmp/ipykernel_1321/2356263958.py:93: FutureWarning: You are using `torch.load` with `weights_only=False` (the current default value), which uses the default pickle module implicitly. It is possible to construct malicious pickle data which will execute arbitrary code during unpickling (See https://github.com/pytorch/pytorch/blob/main/SECURITY.md#untrusted-models for more details). In a future release, the default value for `weights_only` will be flipped to `True`. This limits the functions that could be executed during unpickling. Arbitrary objects will no longer be allowed to be loaded via this mode unless they are explicitly allowlisted by the user via `torch.serialization.add_safe_globals`. We recommend you start setting `weights_only=True` for any use case where you don't have full control of the loaded file. Please open an issue on GitHub for any issues related to this experimental feature.\n",
      "  mlp.load_state_dict(torch.load(model_path))\n"
     ]
    },
    {
     "name": "stdout",
     "output_type": "stream",
     "text": [
      "一定看看哈\n",
      "../autodl-tmp/cache/ensemble_gbert/models/mlp/16fbad104cd49cc34407917a0564260a5a164c1025737f587630f80c0c845ad1_gbert-large.pth\n",
      "500\n",
      "测一下\n",
      "[ 4.2674556   1.0182894   2.865158    2.3436015   1.8491752   3.308426\n",
      "  2.5216303   1.6614823   4.593692    0.9166553   3.372873    1.9728893\n",
      "  3.186903    2.5171115   0.64032495  4.3379464   1.3235046   1.9399192\n",
      "  3.8807087   0.81975317  2.7062716   2.5472844   1.8927562   1.4335063\n",
      "  4.677681    2.6725528   1.9858568   3.0995033  -1.2653286   2.1727583\n",
      " -0.12882587  2.3794463   1.8579988   2.1764932   3.0938447   3.32424\n",
      "  0.2652974   5.4412675   0.8768339   2.730119    3.301856    3.929454\n",
      "  2.474055    3.638127    2.351018    4.0699773   0.40941495  4.1614256\n",
      "  1.6724936   2.0076134   2.7520761   0.5354818   4.697951    2.0646992\n",
      "  2.9472558   2.6765215   2.5232542   3.5417857   5.543149    1.7719969\n",
      "  2.2106745   4.1171756   1.9411465   2.8846443   4.1846166   3.28376\n",
      "  2.6067333   2.1733952   3.0081801   0.9207324   1.8048156   2.8176959\n",
      "  1.5924858   7.6087475   6.0246034   2.121798    1.8814791   3.7956583\n",
      "  1.4555547   1.9544328   5.1666613   3.9604611   1.7707932   0.6217773\n",
      "  1.7029209   0.7996235   1.4810704   1.9307435   2.5924494   2.5084426\n",
      "  3.0454018   2.835628    2.5203664   5.8846946   1.9993057   2.3816483\n",
      "  2.2952867   3.9406319   0.05665448  4.3077602   6.763322    2.327148\n",
      "  1.9205778   5.4507594   1.8977975   3.5937064   2.6996472   4.8973894\n",
      "  3.5283122   2.6033497   1.5624164   4.059052    2.9494002   2.8250287\n",
      "  0.9204163   2.9280863   1.4679178   1.8930829   0.12613809  2.1935904\n",
      "  0.32532546  3.3152964   2.6297674   3.751175    1.4858209   2.4480445\n",
      "  6.4958696   2.9901729   2.52192     0.9419258   0.8746313   3.9008486\n",
      "  4.873658    3.5326374   1.2717814   1.1111405   3.2208214   2.2561388\n",
      "  3.5121622   1.8884909   1.3289232   3.617465    4.442194    0.50475883\n",
      "  2.6197248   4.5795794   2.0959988   3.831977    2.8639374   2.7623525\n",
      "  2.8800187   1.3267677   2.573597    2.620266    3.9787896   3.1155624\n",
      "  1.393998    3.114839    1.7931521   4.3763385   1.7033392   0.40212664\n",
      "  2.551463    1.9841746   1.7932485   2.226869    2.4953783   5.488648\n",
      "  1.6336155   1.273622    1.4997905   4.4928703   4.61635     2.1319776\n",
      "  1.3965497   1.780199    2.0275085   3.676612    1.8685197   4.0531087\n",
      "  3.3027248   7.0581503   4.363361    3.2334852   0.13850364  2.4455607\n",
      "  3.397473    1.5455903   2.1299582   1.8453395   0.6774914   2.1826015\n",
      "  3.275584    1.3402966   7.592011    2.1775615   3.1296844   1.8591387\n",
      "  2.203977   -0.6451637   2.2359087   1.1402013   3.2022517   0.7407308\n",
      "  2.2301593   2.7873936   2.8352902   3.9482973   3.58704     1.6374543\n",
      "  3.9353063   2.2250037   1.3420637   4.3637958   2.716805    4.7023597\n",
      "  3.9724379   1.5499424   0.9694755   2.316304    3.8098962   2.9117944\n",
      "  1.1470064   0.3139558   1.5725157   1.3454547   1.6457987   0.3182896\n",
      "  0.10682382  2.0535705   2.7435532   1.07769     1.4328164   0.7762883\n",
      "  1.5036024   0.8760429   2.3103404   1.1239177   5.9470415   3.1710122\n",
      "  1.8731476   2.7343984   2.6710503   2.459441    1.7926033   3.0217006\n",
      "  2.1865182   3.195256    4.151807    3.1977108   3.4393792   0.6594104\n",
      "  3.0258079   3.0991435   3.0634391   2.7049747   3.0751324   0.47470382\n",
      "  1.497158    2.777454    2.0845606   7.234485    0.78002936  3.092142\n",
      "  2.770654    2.143973    5.0532527   2.0243456   2.6988614   4.331009\n",
      "  0.96329033  2.1911962   5.186042    3.4677484   3.0293584   3.2940178\n",
      "  2.6695743   2.9566257   1.5919752   1.9657695   5.1816535   2.608327\n",
      "  1.8326302   1.1301051   2.1692326   2.1315186   3.8333347   2.0407279\n",
      "  1.3567854   1.4394782   3.316135    2.0107195   2.8770797   4.702207\n",
      "  7.3258004   3.8751924   3.0769827   3.0128875   1.7784355   2.9688962\n",
      "  1.7919844   2.1007984   1.1704079   5.6556873   6.590131    1.3342723\n",
      "  3.7288861   0.7684569   7.644121    2.0562181   6.881501    4.093632\n",
      "  2.6115224   2.7821772   4.514347    3.6669197   2.6970007  -0.09886207\n",
      "  1.9445037   3.1873667   4.279589    2.6895988   2.9599655   2.4935353\n",
      "  1.9182701   3.1056814   2.481667    2.6604097   4.0849795   1.6110878\n",
      "  1.9270226  -0.33821306  2.0111945   3.326163    2.0147347   0.8046633\n",
      "  2.318735    1.5992922   3.949088    2.1351414   2.935927    1.7629627\n",
      "  2.7839992   1.3005042   1.2616029   2.1481607   4.1675544   1.3027856\n",
      "  2.801088    2.0205557   2.0245464   1.0472907  -0.72276443  2.4712002\n",
      "  2.6931489   2.6627884   1.1690118   2.317222    0.79904544  3.6904378\n",
      "  1.388119    1.6390032  -0.19410072  2.8059785   1.738933    2.7617488\n",
      "  2.0287147   1.6174016   2.83988     5.4621925   1.8982468   2.6388333\n",
      "  2.213327    2.1834102   2.146225    2.939579    3.3887434   3.3401625\n",
      "  1.9920843   0.98623675  2.9796436   1.4175599   3.6729832   2.1852307\n",
      "  3.5140898   0.8561043   4.0872984   3.7013156   4.1161776   1.5236814\n",
      "  3.132582    2.5597801   1.9616348   3.1924493   3.7816913   0.975165\n",
      "  5.141425    3.4993846   3.4544492   3.8114967   1.7556939   1.0287026\n",
      "  0.900617    2.5561597   4.508216    1.464591   -0.09502844  2.3624926\n",
      "  6.158169    2.4804163   1.8503515   1.7455076   0.2131668   6.3705387\n",
      "  5.4590163   2.690633    5.332827    2.0467663   2.5870118   3.9592736\n",
      "  0.13259512  1.5618339   9.203454    3.7704337   6.9120116   1.3774799\n",
      "  1.2248847   5.603782    1.1126877   2.4203706   3.1853275  -0.44094625\n",
      "  1.9750149   3.2354374   1.9241105   2.7576168   3.394625    1.196554\n",
      "  3.1997285   2.0656831  -0.39171377  3.8831372   2.7844393   4.9033866\n",
      "  2.3427737   1.5458612   2.8674285   3.6952868   7.075219    0.62512004\n",
      "  2.6049879   2.1433582   1.442192    4.8389883   2.4391634   2.2358649\n",
      "  1.4781772   2.2152386   1.3431635   0.05907144  2.188587    1.5029695\n",
      "  1.5579813   0.483191    0.77943105  1.8410864   5.5122557   3.3026106\n",
      "  0.62921095  1.4282355   3.6166282   1.2219155   2.0398355   8.990962\n",
      "  1.3642356   3.5520756   2.683801    1.7305379   0.21306387  2.843683\n",
      "  1.288832    1.6879089   5.285418    2.900153    6.001649    1.7861387\n",
      "  2.1615908   3.5159123   2.6939826   2.4117088   3.3163538   4.1208797\n",
      "  1.6425246   3.4632027   2.3618047   3.9828553   1.7091775   1.9339429\n",
      "  4.9570584   0.7236728 ]\n",
      "500\n"
     ]
    },
    {
     "name": "stderr",
     "output_type": "stream",
     "text": [
      "/tmp/ipykernel_1321/2356263958.py:93: FutureWarning: You are using `torch.load` with `weights_only=False` (the current default value), which uses the default pickle module implicitly. It is possible to construct malicious pickle data which will execute arbitrary code during unpickling (See https://github.com/pytorch/pytorch/blob/main/SECURITY.md#untrusted-models for more details). In a future release, the default value for `weights_only` will be flipped to `True`. This limits the functions that could be executed during unpickling. Arbitrary objects will no longer be allowed to be loaded via this mode unless they are explicitly allowlisted by the user via `torch.serialization.add_safe_globals`. We recommend you start setting `weights_only=True` for any use case where you don't have full control of the loaded file. Please open an issue on GitHub for any issues related to this experimental feature.\n",
      "  mlp.load_state_dict(torch.load(model_path))\n"
     ]
    },
    {
     "name": "stdout",
     "output_type": "stream",
     "text": [
      "测一下\n",
      "[ 3.1505282   2.7443612   2.7412062   1.5818461   2.4962308   2.097626\n",
      "  4.271709    1.0867188   3.2608058   1.5017034   2.1059425   2.3782613\n",
      "  2.478131    2.7694046   1.4241655   5.350113    1.5498139   2.150611\n",
      "  3.5069468   1.8854455   3.135497    3.0598521   2.1939282   1.8254193\n",
      "  5.745371    3.2439823   2.316991    2.6882174   1.242011    2.1906497\n",
      "  1.3163682   2.6510203   1.340946    2.1490662   3.2255645   3.7114189\n",
      "  2.25302     5.221505    1.4382868   2.3443117   2.988025    2.8891242\n",
      "  3.5777514   1.995902    3.4312062   2.9438534   0.11610667  3.3429532\n",
      "  1.820067    1.4936244   2.5349236   0.51608515  7.2103467   0.912108\n",
      "  2.3161266   1.5157895   2.784743    3.5624368   5.456546    2.8444002\n",
      "  2.9196143   3.9428236   1.7538791   2.8763514   5.1798363   4.136867\n",
      "  2.1726928   1.911574    2.6372116   0.6481578   1.5548652   2.457895\n",
      "  1.5042866   7.4121375   5.725601    2.2883773   2.5795689   2.0364802\n",
      "  1.3535962   2.2576349   4.847535    4.6934886   2.6038086   0.84158397\n",
      "  0.9396678   1.2245953   1.3821676   1.4841399   2.9374404   1.881571\n",
      "  3.5372477   3.2248502   3.219002    4.3572865   2.087381    2.1114078\n",
      "  2.2945974   4.4167085   0.9878983   4.1787653   7.8705974   1.3981103\n",
      "  2.031986    4.3924947   1.3515123   5.247025    2.2875342   4.359013\n",
      "  6.0873065   1.9587471   2.24038     4.35626     3.2777438   2.9516351\n",
      "  2.7683434   2.8280323   1.6923784   2.6577888   1.0728097   2.421148\n",
      "  0.5000402   3.9236364   2.8161328   3.0748234   1.7485896   3.320584\n",
      "  6.157405    1.7539175   1.9935569   1.9817499   1.9266214   3.747864\n",
      "  3.6456583   3.405499    2.0129087   1.6281681   4.3548346   2.3304229\n",
      "  2.792487    2.1896033   1.4476355   3.5561543   5.6047716   1.138387\n",
      "  3.941256    4.88921     2.9056764   4.469326    2.7621465   2.3088076\n",
      "  3.8929684   1.6490986   2.8352027   1.6394165   3.6615887   4.227351\n",
      "  1.940914    3.3671439   2.2277007   4.6651254   2.0465515   1.5060222\n",
      "  1.7740927   2.5010471   0.8011504   3.3821564   1.6181861   5.37212\n",
      "  1.799985    1.4807341   1.3542085   5.2227526   3.8350804   1.2962757\n",
      "  1.6900226   1.8162835   2.8384845   3.176299    2.066447    3.6041698\n",
      "  2.2916613   5.473988    3.5948775   3.246018    2.5346112   1.4974076\n",
      "  2.0865083   1.4359766   1.389326    1.624038    1.8400574   3.1624255\n",
      "  3.1947925   2.8070629   6.988316    1.3245695   1.9204686   2.307801\n",
      "  1.322342    0.5022787   1.8059937   1.5599879   2.7723517   1.3289101\n",
      "  2.7899842   2.2579532   2.2002144   4.0282507   3.8901565   3.6441245\n",
      "  4.4889064   1.7300949   1.3408953   4.121363    2.5373628   4.289226\n",
      "  3.1588647   2.6388264   1.568894    2.4073555   3.5355456   3.7188137\n",
      "  1.407264    2.1506538   2.2845888   1.59136     1.7806668   1.5009341\n",
      "  0.08842066  2.7620327   2.551969    1.0388587   1.9304509   0.88402677\n",
      "  2.7388155   1.8044971   2.1714165   0.46878892  4.9468517   3.4533644\n",
      "  1.3810009   3.6550803   2.0227082   2.743771    2.1559067   2.5986304\n",
      "  2.8031363   4.1522775   4.287636    2.9477117   3.899753    1.5148321\n",
      "  1.6388563   1.558679    2.3235397   1.3255486   2.2361035   0.4076435\n",
      "  2.1856623   2.7475529   1.771246    7.8931274   2.0367353   2.869831\n",
      "  3.322034    1.5698841   4.534827    1.7308924   3.2387035   4.5275083\n",
      "  3.9142957   1.7922435   5.411185    3.6403887   2.9823713   3.9527867\n",
      "  2.856319    1.7410047   1.9098905   2.3732352   4.6620846   2.7105896\n",
      "  1.3944488   1.515801    1.8902934   2.133755    3.3652      2.9379115\n",
      "  1.7850692   2.5904465   4.5861096   1.4385322   2.3331306  15.247744\n",
      "  4.992394    3.4749885   2.3550477   1.6875919   1.7638085   2.4871385\n",
      "  1.400181    2.0572636   2.1269815   5.026319    5.205739    1.8983752\n",
      "  3.0440323   1.6865188   6.7094135   2.4549997   6.637855    4.3974447\n",
      "  1.7569096   1.7941368   5.4175305   3.883128    3.377308    1.5457139\n",
      "  1.5973454   1.8393146   5.3575244   2.8676095   2.306175    2.1101627\n",
      "  1.388328    3.6123528   3.2171857   3.7462485   3.11206     3.8206058\n",
      "  1.6089833   1.0246217   2.453743    3.9508667   1.9842116   0.5988283\n",
      "  1.611231    1.6141049   3.6061606   1.9390801   1.9833919   1.908071\n",
      "  1.9951612   1.7516507   1.7396325   2.9482865   4.623409    1.7201197\n",
      "  2.2806952   2.0309181   2.1406016   1.1840605   0.86856025  3.4292378\n",
      "  3.9572904   1.3435959   2.4864275   1.6611003   1.3023907   3.991943\n",
      "  1.626536    1.6078032   1.4542687   2.6076453   1.3708      2.996002\n",
      "  1.6685153   2.9437222   1.9283894   4.5988703   1.6836885   2.9006813\n",
      "  2.9046004   2.1914577   1.9170678   2.9651911   3.1484454   3.120003\n",
      "  1.4187976   0.7296548   4.167723    1.6136004   3.3915675   3.5948367\n",
      "  3.642356    1.3154439   3.9755442   3.7442055   2.7699294   2.384893\n",
      "  3.587755    2.8620236   1.4829968   3.040011    4.340297    1.1527334\n",
      "  4.8137193   4.281288    3.4623888   3.1077101   2.5585885   1.3437515\n",
      "  2.1887858   2.8221219   4.6834416   3.0655      1.8532223   3.0515544\n",
      "  5.6691647   4.1882963   1.4019245   1.6933476   1.5180317   6.5404654\n",
      "  4.8286457   3.5271306   5.181714    4.357584    1.5033271   2.552626\n",
      "  1.1855837   1.5134432   9.76994     3.8937047   5.607952    3.1634367\n",
      "  1.4813418   5.018068    1.6191598   2.8939466   3.034558    1.6445079\n",
      "  1.826776    2.706177    2.3794873   2.6961374   4.1002665   2.081597\n",
      "  3.8197029   2.4866223   2.7390068   4.2599874   3.6586328   4.7917624\n",
      "  3.2030241   1.5181891   2.1904233   2.0414102   5.9019136   0.5950835\n",
      "  3.898353    2.8227909   1.8261207   5.8656635   1.2913351   1.7537853\n",
      "  1.6960914   1.6637714   1.6769444   1.3190373   0.8655731   2.5867333\n",
      "  2.0610664   1.1906586   3.8335307   3.0563865   3.7830021   3.0155714\n",
      "  1.9811819   2.3414948   4.046125    0.83461255  2.2750218   7.9980965\n",
      "  1.2096531   3.773366    2.8165998   2.4975774   1.6597662   2.761352\n",
      "  1.7891989   2.2597263   5.0381885   2.818499    6.362548    1.8175154\n",
      "  1.8417939   4.4360785   2.6462865   2.6265187   3.1551583   4.3969364\n",
      "  1.3550774   2.500514    1.7547904   3.323722    1.1587095   2.0510015\n",
      "  4.8108244   1.8147341 ]\n",
      "500\n",
      "../autodl-tmp/cache/ensemble_gbert/models/gbert/feaae0e395caa9f592fcf443e720d8fbfb1823da7a81fdfb1db69f7c9418a6aa_gbert-large\n",
      "一定看看哈\n",
      "../autodl-tmp/cache/ensemble_gbert/models/mlp/feaae0e395caa9f592fcf443e720d8fbfb1823da7a81fdfb1db69f7c9418a6aa_gbert-large.pth\n",
      "500\n",
      "../autodl-tmp/cache/ensemble_gbert/models/gbert/da7daa20b041aae767afab50a06cd0292073a44da2495631b4af8bd23383014e_gbert-large\n"
     ]
    },
    {
     "name": "stderr",
     "output_type": "stream",
     "text": [
      "/tmp/ipykernel_1321/2356263958.py:93: FutureWarning: You are using `torch.load` with `weights_only=False` (the current default value), which uses the default pickle module implicitly. It is possible to construct malicious pickle data which will execute arbitrary code during unpickling (See https://github.com/pytorch/pytorch/blob/main/SECURITY.md#untrusted-models for more details). In a future release, the default value for `weights_only` will be flipped to `True`. This limits the functions that could be executed during unpickling. Arbitrary objects will no longer be allowed to be loaded via this mode unless they are explicitly allowlisted by the user via `torch.serialization.add_safe_globals`. We recommend you start setting `weights_only=True` for any use case where you don't have full control of the loaded file. Please open an issue on GitHub for any issues related to this experimental feature.\n",
      "  mlp.load_state_dict(torch.load(model_path))\n"
     ]
    },
    {
     "name": "stdout",
     "output_type": "stream",
     "text": [
      "一定看看哈\n",
      "../autodl-tmp/cache/ensemble_gbert/models/mlp/da7daa20b041aae767afab50a06cd0292073a44da2495631b4af8bd23383014e_gbert-large.pth\n",
      "500\n",
      "../autodl-tmp/cache/ensemble_gbert/models/gbert/26ead4461bdab0fa6e757cc0bb6fb119bba5b7b36714ebe10f4a128d25af2ce3_gbert-large\n"
     ]
    },
    {
     "name": "stderr",
     "output_type": "stream",
     "text": [
      "/tmp/ipykernel_1321/2356263958.py:93: FutureWarning: You are using `torch.load` with `weights_only=False` (the current default value), which uses the default pickle module implicitly. It is possible to construct malicious pickle data which will execute arbitrary code during unpickling (See https://github.com/pytorch/pytorch/blob/main/SECURITY.md#untrusted-models for more details). In a future release, the default value for `weights_only` will be flipped to `True`. This limits the functions that could be executed during unpickling. Arbitrary objects will no longer be allowed to be loaded via this mode unless they are explicitly allowlisted by the user via `torch.serialization.add_safe_globals`. We recommend you start setting `weights_only=True` for any use case where you don't have full control of the loaded file. Please open an issue on GitHub for any issues related to this experimental feature.\n",
      "  mlp.load_state_dict(torch.load(model_path))\n"
     ]
    },
    {
     "name": "stdout",
     "output_type": "stream",
     "text": [
      "一定看看哈\n",
      "../autodl-tmp/cache/ensemble_gbert/models/mlp/26ead4461bdab0fa6e757cc0bb6fb119bba5b7b36714ebe10f4a128d25af2ce3_gbert-large.pth\n",
      "500\n",
      "../autodl-tmp/cache/ensemble_gbert/models/gbert/5c449f56f076f32e703faa34fa8c116ad527e42a4ec0b8d664862a2493fdac08_gbert-large\n"
     ]
    },
    {
     "name": "stderr",
     "output_type": "stream",
     "text": [
      "/tmp/ipykernel_1321/2356263958.py:93: FutureWarning: You are using `torch.load` with `weights_only=False` (the current default value), which uses the default pickle module implicitly. It is possible to construct malicious pickle data which will execute arbitrary code during unpickling (See https://github.com/pytorch/pytorch/blob/main/SECURITY.md#untrusted-models for more details). In a future release, the default value for `weights_only` will be flipped to `True`. This limits the functions that could be executed during unpickling. Arbitrary objects will no longer be allowed to be loaded via this mode unless they are explicitly allowlisted by the user via `torch.serialization.add_safe_globals`. We recommend you start setting `weights_only=True` for any use case where you don't have full control of the loaded file. Please open an issue on GitHub for any issues related to this experimental feature.\n",
      "  mlp.load_state_dict(torch.load(model_path))\n"
     ]
    },
    {
     "name": "stdout",
     "output_type": "stream",
     "text": [
      "一定看看哈\n",
      "../autodl-tmp/cache/ensemble_gbert/models/mlp/5c449f56f076f32e703faa34fa8c116ad527e42a4ec0b8d664862a2493fdac08_gbert-large.pth\n",
      "500\n",
      "../autodl-tmp/cache/ensemble_gbert/models/gbert/671bfad85116e6f03d257b3f5c0c1e1551066e8888c5f1169be26599b41d74b9_gbert-large\n"
     ]
    },
    {
     "name": "stderr",
     "output_type": "stream",
     "text": [
      "/tmp/ipykernel_1321/2356263958.py:93: FutureWarning: You are using `torch.load` with `weights_only=False` (the current default value), which uses the default pickle module implicitly. It is possible to construct malicious pickle data which will execute arbitrary code during unpickling (See https://github.com/pytorch/pytorch/blob/main/SECURITY.md#untrusted-models for more details). In a future release, the default value for `weights_only` will be flipped to `True`. This limits the functions that could be executed during unpickling. Arbitrary objects will no longer be allowed to be loaded via this mode unless they are explicitly allowlisted by the user via `torch.serialization.add_safe_globals`. We recommend you start setting `weights_only=True` for any use case where you don't have full control of the loaded file. Please open an issue on GitHub for any issues related to this experimental feature.\n",
      "  mlp.load_state_dict(torch.load(model_path))\n"
     ]
    },
    {
     "name": "stdout",
     "output_type": "stream",
     "text": [
      "一定看看哈\n",
      "../autodl-tmp/cache/ensemble_gbert/models/mlp/671bfad85116e6f03d257b3f5c0c1e1551066e8888c5f1169be26599b41d74b9_gbert-large.pth\n",
      "500\n",
      "测一下\n",
      "[ 2.5758193e+00  5.0811279e-01  5.7788283e-01  3.2802367e+00\n",
      "  1.5226611e+00  3.7313530e+00  1.7600130e+00  3.6949151e+00\n",
      "  3.3070560e+00  3.8252771e+00  3.3181627e+00  1.5158789e+00\n",
      "  3.8023007e+00  3.0509126e+00  2.2715311e+00  3.0535107e+00\n",
      "  2.3752642e+00  2.7251711e+00  2.3085310e+00  2.0962081e+00\n",
      "  2.2478559e+00  3.2776108e+00  2.3929207e+00  3.2348633e+00\n",
      "  2.1814356e+00  3.8196974e+00  2.5826831e+00  3.3320227e+00\n",
      "  3.0208697e+00  3.1374159e+00  2.5140436e+00  1.7620260e+00\n",
      "  4.3010640e+00  2.9959843e+00  3.3949876e+00  2.1591041e+00\n",
      "  4.5031652e+00  9.7742069e-01  4.1212883e+00  5.4513674e+00\n",
      "  1.9841840e+00  2.5492361e+00  2.5032430e+00  1.6691515e+00\n",
      "  1.5265844e+00  4.2998443e+00  3.9502351e+00  3.3160849e+00\n",
      "  2.1976655e+00  1.5257225e+00  3.7291949e+00  1.1074681e+00\n",
      "  3.8014381e+00  3.4165163e+00  2.5438409e+00  3.3009186e-01\n",
      "  2.3980384e+00  2.8806860e+00  3.1590345e+00  2.8600228e+00\n",
      "  5.4936628e+00 -3.9682448e-02  2.1283400e+00  2.4916980e+00\n",
      "  1.7004007e+00  2.0042770e+00  3.3888254e+00  3.9183836e+00\n",
      "  3.3443286e+00  1.5720887e-01  2.6347690e+00  2.1292827e+00\n",
      "  1.1944027e+00  8.3122358e+00  2.7762728e+00  4.0510306e+00\n",
      "  3.4508452e+00  1.7887415e+00  4.4356375e+00  5.3713222e+00\n",
      "  2.1170316e+00  3.1354501e+00  1.2038265e+00  3.5451260e+00\n",
      "  2.0376480e+00  3.5133343e+00  2.2531705e+00  2.4992003e+00\n",
      "  2.5781670e+00  3.8506858e+00  1.6952935e+00  2.9017630e+00\n",
      "  3.1869946e+00  2.6962783e+00  2.2246425e+00  3.8251963e+00\n",
      "  5.9883595e-01  1.3445107e+00  2.3970609e+00  4.2844863e+00\n",
      "  3.9203517e+00  5.4304738e+00  3.1360407e+00  2.0504234e+00\n",
      "  2.6654494e+00  1.9735702e+00  1.2976303e+00  1.6219061e-02\n",
      "  2.3157675e+00  3.7564466e+00  2.0207877e+00  4.7610216e+00\n",
      "  9.6456689e-01  2.9701850e+00  3.4993505e+00  5.5901990e+00\n",
      "  2.3313136e+00  1.8232094e+00  4.4162202e+00  4.6051831e+00\n",
      "  4.5569282e+00  1.3245194e+00  2.2751462e+00  2.5353119e+00\n",
      "  1.4536073e+00  2.2966430e+00  2.2833090e+00  2.6343737e+00\n",
      "  1.6598864e+00  3.3711863e+00  9.3008429e-01  2.4570160e+00\n",
      "  2.0193853e+00  4.1566648e+00  3.3106871e+00  3.0682058e+00\n",
      "  5.4581761e+00  3.3533847e+00  3.5794255e-01  2.0282674e+00\n",
      "  4.7431026e+00  7.4740750e-01  1.4646319e+00  1.5235744e+00\n",
      "  5.9513564e+00  1.7292179e+00  3.6355188e+00  2.0172713e+00\n",
      " -6.7382798e-02  3.1517925e+00  1.5128567e+00  2.6482415e+00\n",
      "  3.2347884e+00  2.2520149e+00  3.8045197e+00  2.5676072e-01\n",
      "  1.4965242e+00  2.7793684e+00  4.5500584e+00  1.6010798e+00\n",
      "  2.1344669e+00  2.3153355e+00  2.6337106e+00  3.3377669e+00\n",
      "  6.8432598e+00  5.4741389e-01  1.0973907e+00  5.2704368e+00\n",
      "  2.7167857e+00  3.2083547e+00  2.5558159e+00  2.2422881e+00\n",
      "  4.6214151e+00  2.0118477e+00  1.3232002e+00  2.1528752e+00\n",
      "  3.5408132e+00  1.4641607e+00 -3.5591471e-01  2.4142356e+00\n",
      "  5.6125913e+00  6.7325411e+00  2.6020684e+00  2.6675758e-01\n",
      "  2.0826163e+00  4.1882186e+00  2.7075849e+00  5.1221366e+00\n",
      "  2.6768782e+00  1.7995104e+00  2.9352038e+00  3.6600363e+00\n",
      "  1.9354334e+00  3.7469652e+00  2.1018167e+00  4.4373226e+00\n",
      "  3.0319588e+00  2.2063487e+00  3.1887083e+00  1.0483594e+00\n",
      "  4.5466557e+00  8.5541099e-01  3.6883829e+00  3.0256522e+00\n",
      "  4.1225724e+00  2.5127361e+00  1.6459303e+00  4.6862917e+00\n",
      "  8.5611737e-01  3.4712582e+00  1.6749129e+00  3.0787754e+00\n",
      "  1.2999793e+00  1.6587867e+00  2.3541188e+00  1.9904157e+00\n",
      "  4.0499463e+00  1.8622140e+00  1.0018221e+00  1.9998016e+00\n",
      "  2.5112042e+00  3.3315711e+00  1.9102057e+00  2.9669132e+00\n",
      "  4.8640423e+00  4.1964746e+00  1.8515998e+00  3.9955862e+00\n",
      "  1.8327608e+00  1.0497884e+00  1.2503439e+00  7.9491830e-01\n",
      "  3.6391749e+00  4.0095668e+00  2.4391003e+00  3.6519670e+00\n",
      "  2.2265031e+00  3.7283254e+00  3.9679890e+00  3.3879368e+00\n",
      "  4.0028977e+00  2.6442771e+00  4.7121253e+00  4.2654686e+00\n",
      "  3.4986215e+00  2.9656918e+00  4.6673174e+00  1.5223701e+00\n",
      "  3.0806243e+00  3.0970797e-01  2.5087535e+00  2.0362926e+00\n",
      "  5.5394082e+00  3.6430750e+00  1.3007784e+00  1.8489261e+00\n",
      "  1.7738078e+00  2.9291308e+00  3.3709664e+00  4.2185650e+00\n",
      "  7.1394968e-01  2.1464450e+00  1.8424468e+00  1.8402177e+00\n",
      "  3.2582273e+00  2.4445045e+00  4.7251835e+00  4.1779737e+00\n",
      "  3.2199273e+00  2.3307683e+00  5.0481443e+00  4.3299208e+00\n",
      "  2.3057380e+00  1.8661624e-01  3.8863895e+00  2.5930169e+00\n",
      "  8.6802661e-01  3.7116530e+00  1.5445827e+00  4.5933270e+00\n",
      "  3.5238492e+00  2.5760927e+00 -3.1565771e-02  2.3995361e+00\n",
      "  2.7331889e+00  2.7599614e+00 -5.5569422e-01  1.3677151e+00\n",
      "  3.1924529e+00  1.2865753e+00  2.6532443e+00  3.5943339e+00\n",
      "  2.8913548e+00  4.1339369e+00  1.6301415e+00  4.5463982e+00\n",
      "  3.0529628e+00  1.9934490e+00  1.7000302e+00  4.4345632e+00\n",
      "  3.9718318e+00  3.9054506e+00  2.3394904e+00  2.3494904e+00\n",
      "  3.5213947e+00  6.5831113e-01  3.1633809e+00  2.7476797e+00\n",
      "  4.0620265e+00  3.7646973e+00  1.9518592e+00  2.2717490e+00\n",
      "  1.8898582e+00  2.9596801e+00  2.6915450e+00  1.9038736e+00\n",
      "  2.9560761e+00  1.8002466e+00  4.1164298e+00  1.8618014e+00\n",
      "  3.0081716e+00  3.7414856e-02  1.3987951e+00  2.5377542e+01\n",
      "  4.7641835e+00  1.8425378e+00  1.6232171e+00  7.5000191e-01\n",
      "  3.5685432e+00  3.6456251e+00  3.1789336e+00  3.5206153e+00\n",
      "  2.7744560e+00  2.0032604e+00  4.1721101e+00  2.2007275e+00\n",
      "  1.1162958e+00  3.2305210e+00  2.6364155e+00  2.6193085e+00\n",
      "  1.4993715e+00  4.1827316e+00  8.6214316e-01  3.5204592e+00\n",
      "  7.0086485e-01  1.4175705e+00  1.7985215e+00  3.6304793e+00\n",
      "  2.2386868e+00  3.8651633e+00  3.0914662e+00  5.4952556e-01\n",
      "  2.6790934e+00  1.4314141e+00  1.8509829e+00  1.2822782e+00\n",
      "  2.6266823e+00  3.0534332e+00  2.4304590e+00  4.6072640e+00\n",
      "  2.2521875e+00  2.0242031e+00  2.8426499e+00  4.5461659e+00\n",
      "  3.5151639e+00  1.9828640e+00  1.4044421e+00  5.3873453e+00\n",
      "  4.2696972e+00  4.4871893e+00  2.8476954e+00  4.5147195e+00\n",
      "  4.0164623e+00  1.4380213e+00  1.6110771e+00  3.0896165e+00\n",
      "  3.1545711e+00  2.8323786e+00  3.2352543e+00 -3.6523697e-01\n",
      "  2.5882573e+00  1.6087945e+00  2.4682729e+00  6.2604532e+00\n",
      "  1.3417337e+00  2.5997369e+00  4.3581777e+00  2.0229530e+00\n",
      "  5.4342380e+00  4.1965771e+00  1.4523141e+00  2.5059032e+00\n",
      "  3.5322268e+00  2.8730171e+00  2.2390985e+00  5.9100026e-01\n",
      "  3.1839824e+00  4.8419271e+00  2.8737795e+00  2.5360918e+00\n",
      "  4.5236559e+00  1.6574590e+00  1.9936728e+00  1.9611619e+00\n",
      " -7.4629530e-02  4.0840907e+00  2.7931843e+00  2.5365050e+00\n",
      "  1.5865487e+00  7.6612675e-01  2.0275357e+00  3.0412576e-01\n",
      "  1.8051232e+00  3.6086469e+00  2.2484260e+00  3.5895808e+00\n",
      "  1.4625800e+00  2.6241145e+00  3.8232014e+00  9.9121469e-01\n",
      "  5.7931036e-01  3.6826851e+00  3.4806492e+00  2.6364660e+00\n",
      "  1.6612768e+00  4.4383535e+00  1.3138887e+00  2.7223110e+00\n",
      "  3.7425959e+00  5.1270504e+00  2.0453584e+00  3.3910365e+00\n",
      "  3.3484537e-02  2.3381658e+00  2.0026684e+00  5.8331409e+00\n",
      "  1.2686270e+00  2.1121421e+00  2.1894789e+00  2.7102482e+00\n",
      "  2.4754499e-01  1.9146562e+00  1.7596509e+00  3.8253300e+00\n",
      "  2.8834310e+00  5.4596581e+00  3.2888975e+00  1.6474341e+00\n",
      "  3.5855343e+00  1.4048791e+00  4.0763702e+00  1.7542657e+00\n",
      "  2.5434289e+00  2.5303214e+00  3.1043065e+00  3.1388161e+00\n",
      "  4.0684037e+00 -6.0426068e-01  3.4290733e+00  3.1018908e+00\n",
      "  3.2935357e+00  2.4097400e+00 -3.3043973e-02  2.8430827e+00\n",
      "  3.2122054e+00  1.4518251e+00  3.2560697e+00  2.3208084e+00\n",
      "  1.6563234e+00  3.3102307e+00  2.4361150e+00  3.5483825e+00\n",
      "  2.2792261e+00  2.1214349e+00  3.3890784e+00  2.1586905e+00\n",
      "  4.1543851e+00  1.6063750e+00  1.5214372e+00  4.5036845e+00\n",
      "  1.7977709e+00  2.5712764e+00  3.1316001e+00  2.0286994e+00\n",
      "  1.6505011e+00  8.0441755e-01  3.1203935e+00  1.5913091e+00\n",
      "  2.1904860e+00  5.7727866e+00  1.7762740e+00  2.5241561e+00\n",
      "  1.8599479e+00  2.4159873e+00  2.2346518e+00  2.0950031e+00\n",
      "  4.4312062e+00  2.2699766e+00  2.3280849e+00  1.3887122e+00]\n",
      "500\n"
     ]
    },
    {
     "name": "stderr",
     "output_type": "stream",
     "text": [
      "/tmp/ipykernel_1321/2356263958.py:93: FutureWarning: You are using `torch.load` with `weights_only=False` (the current default value), which uses the default pickle module implicitly. It is possible to construct malicious pickle data which will execute arbitrary code during unpickling (See https://github.com/pytorch/pytorch/blob/main/SECURITY.md#untrusted-models for more details). In a future release, the default value for `weights_only` will be flipped to `True`. This limits the functions that could be executed during unpickling. Arbitrary objects will no longer be allowed to be loaded via this mode unless they are explicitly allowlisted by the user via `torch.serialization.add_safe_globals`. We recommend you start setting `weights_only=True` for any use case where you don't have full control of the loaded file. Please open an issue on GitHub for any issues related to this experimental feature.\n",
      "  mlp.load_state_dict(torch.load(model_path))\n"
     ]
    },
    {
     "name": "stdout",
     "output_type": "stream",
     "text": [
      "测一下\n",
      "[ 1.1716529   2.5587232   1.6503814   1.1473789   2.127459    2.2652655\n",
      "  1.2310501   1.5658362   3.5275505   3.1217344   2.814321   -0.6671246\n",
      "  3.4055166   3.0326025   1.2614976   2.1464958   2.1955311   1.2079971\n",
      "  1.570755    2.547632    2.2712514   1.8890917   2.2382197   2.8316393\n",
      "  1.8931237   3.2060723   1.8931773   2.774956    2.5776844   2.8791912\n",
      "  2.347082    0.9491122   4.5271873   2.7729354   1.9208785   2.10891\n",
      "  2.5963626   1.4299604   3.0065413   6.586666    2.6084113   3.1051316\n",
      "  2.0614605   2.9142373   2.6301186   3.4143429   4.03714     3.519846\n",
      "  1.9573476   2.4711595   2.7303827   2.6599114   1.9843751   2.2253659\n",
      "  3.11079     1.9467427   2.6191373   2.9913623   2.8420172   1.8616112\n",
      "  7.9018364   0.14416638  1.588696    2.6053877   1.7430345   2.0887067\n",
      "  1.8290136   2.1953382   3.8211474  -0.09259722  1.2529081   1.5498235\n",
      "  1.1405776   6.210458    3.031356    5.1991963   2.6494608   2.0625346\n",
      "  4.323918    7.1980624   1.1145393   1.5122318   1.3778625   1.2906573\n",
      "  1.3274583   2.4350662   1.415935    1.6329379   2.6917272   2.969789\n",
      "  2.4395525   2.7425814   3.4431922   2.0083272   2.0437999   2.937474\n",
      "  1.4316669   2.2524817   2.7187765   4.0065136   3.3578007   5.0624146\n",
      "  3.7292674   1.8040562   2.7478461   2.2678862   2.2861776   1.2388489\n",
      "  2.8435273   2.6629117   1.0348579   5.0952277   1.5522997   1.9950575\n",
      "  2.3272073   4.5078545   2.4263194   1.6849754   4.5302444   4.227717\n",
      "  2.5780501   1.9325106   0.6324535   2.1329618   2.1143718   2.6379013\n",
      "  1.9055198   3.065557    1.3155533   1.8663388   0.8730538   3.1836965\n",
      "  2.33702     3.019293    3.4153018   1.2537637   3.5571482   4.0197406\n",
      "  2.1746955   2.361905    5.2495236   2.3934665   2.1667073   1.3256085\n",
      "  8.505746    2.5871      2.5950565   1.5551904   1.8625783   2.7478406\n",
      "  1.6308888   2.0097938   1.887235    2.8133833   3.5500407   2.1516805\n",
      "  1.435971    2.5513566   3.4394822   1.0296705   3.0659873   1.0723827\n",
      "  2.2106583   2.4416633   6.998136    1.4430734   2.3734045   5.7263684\n",
      "  2.2835894   2.580757    3.399037    1.2514899   3.9145095   1.7352338\n",
      "  2.2756035   2.751566    1.9600507   0.4925646   1.371488    0.96108156\n",
      "  5.215395    8.956676    2.1987386   0.65330714  2.5163188   3.604415\n",
      "  2.2890804   4.696514    2.510735    2.3143141   2.418772    3.994652\n",
      "  1.2425972   0.7639025   2.9760861   4.4707265   1.6340988   3.1989927\n",
      "  2.9245844   2.1379511   2.4191473   2.1769168   4.1068397   3.05146\n",
      "  4.5308743   2.3607645   1.6198187   3.1273804   1.9117149   2.2297757\n",
      "  2.4959106   3.1613243   2.1381977   1.1185529   1.8746426   1.8883762\n",
      "  3.623199    2.1688325   1.2535299   1.4484446   1.9617207   3.4169142\n",
      "  1.8748039   2.9418807   4.0559144   4.1005726   1.8954824   3.7000434\n",
      "  2.203393    2.2962987   1.6941806   1.8769742   3.0821462   3.6404705\n",
      "  2.4586413   1.2983268   2.391343    3.9616785   3.6623023   2.8498144\n",
      "  4.004357    2.362719    3.6076903   3.50254     2.762222    2.5006123\n",
      "  2.7537832   2.0632892   2.1174033   1.4083115   1.6589942   2.7004416\n",
      "  5.425669    2.5305197   1.2604235   0.9041318   1.7045556   2.957872\n",
      "  2.4170837   3.254655    1.7136886   2.1669009   2.3747647   2.005884\n",
      "  2.8933194   2.4967847   4.814034    2.9366767   4.0679755   1.7867761\n",
      "  2.191529    3.7604048   2.3197258   1.4816123   2.9782448   2.030547\n",
      "  0.56431377  3.2634401   1.792135    3.937647    2.444403    2.3057768\n",
      "  2.0376568   2.3360093   2.64059     1.176931    1.619681    2.4099953\n",
      "  3.6771946   2.2223926   2.007444    2.5364707   1.4911466   5.696471\n",
      "  1.3669891   3.6188757   2.989329    2.545561    2.12493     1.8965031\n",
      "  2.6543818   2.0121727   2.6549037   2.601717    1.9371842   2.7606494\n",
      "  2.7164097   1.9827319   3.1386678   2.572528    1.9764094   1.8342358\n",
      "  2.3638542   2.846892    1.4017308   2.442152    2.3042715   2.061457\n",
      "  5.3376036   2.2332423   2.7549753   1.1705554   1.8837931   2.1062014\n",
      "  3.897408    1.8990355   1.8064367   2.1122541   2.113223    3.3924134\n",
      "  2.2849355   3.5568888   1.8258271   1.7861855   1.9026394   1.1513561\n",
      "  1.6333145   2.820092    2.6836607   3.0176268   1.116869    2.9689677\n",
      "  0.8672948   3.334985    1.1440498   1.7716199   1.8363236   2.4025607\n",
      "  1.1137537   2.5168774   2.1695716   2.7154028   2.0674527   2.552996\n",
      "  1.8884465   2.0939505   1.6007602   2.0550318   3.0275972   4.7156305\n",
      "  2.0794756   2.3281405   3.1028671   3.4879415   3.2810657   1.7076794\n",
      "  1.9802657   3.1860197   3.0345912   4.197087    3.8718374   5.195828\n",
      "  1.9110337   2.4292386   2.2260277   2.7124724   2.8784623   2.4447973\n",
      "  2.2092874   1.4675347   2.5025492   1.7422067   0.35551003  5.984675\n",
      "  2.2505486   1.9062866   2.7573056   2.2803392   5.360952    2.6467648\n",
      "  1.9308773   2.813837    3.4946897   2.3019876   2.0739508   2.050037\n",
      "  2.4436512   3.340352    2.2548926   2.546466    4.8174753   2.5398319\n",
      "  2.907336    1.3710907   2.1553419   4.3095174   3.20178     2.538791\n",
      "  3.2901444   0.18394488  2.1554465   2.6870747   2.6511235   3.892863\n",
      "  1.1517965   1.7057294   2.839972    4.206445    2.892788    2.6083496\n",
      "  2.3789291   2.261719    1.9495786   2.5779502   1.7342563   4.1226673\n",
      "  2.1412237   2.7499566   4.885588    7.005813    3.4329298   2.4543545\n",
      "  2.1730595   1.3540021   2.047507    5.484556    1.1003406   1.4879688\n",
      "  0.915091    2.609206    0.94733536  2.1817183   1.5637908   2.6103806\n",
      "  0.9859607   4.7813454   2.8771908   2.241954    2.7057252   1.7723311\n",
      "  4.3659334   2.0623083   2.1882682   2.3029885   3.2010577   2.5124657\n",
      "  3.8531337   1.1415913   2.257042    2.353176    1.7235696   1.5476116\n",
      "  1.7991182   1.0706744   2.3485596   1.5745511   2.9116285   2.0289981\n",
      "  0.13741466  3.132609    2.0038347   4.6028266   2.1158154   1.2420764\n",
      "  1.6093748   3.0954647   4.7346945   0.6668972   2.1932955   2.2865276\n",
      "  0.97769284  2.8531713   3.034054    2.2191422   1.3570102   1.4542695\n",
      "  3.3131425   2.0466418   2.3107588   7.877018    3.093758    2.0635078\n",
      "  0.7022428   2.8131855   1.683698    1.3896288   3.1196613   1.9906226\n",
      "  1.9127544   1.9401776 ]\n",
      "500\n"
     ]
    }
   ],
   "source": [
    "for fold, (train_idx, val_idx) in enumerate(KFold(n_splits=N_FOLDS).split(df_train)):\n",
    "    df_train_folds = df_train.loc[train_idx]\n",
    "    df_val_fold = df_train.loc[val_idx]\n",
    "    # fill na with mean of columns of train data\n",
    "    df_train_folds = df_train_folds.fillna(df_train_folds.mean(numeric_only=True))\n",
    "    df_val_fold = df_val_fold.fillna(df_train_folds.mean(numeric_only=True))\n",
    "\n",
    "    y_val_fold = df_val_fold['MOS'].values\n",
    "\n",
    "    pool_predictions_val_fold = get_predictions_captum(df_train_folds, df_val_fold)\n",
    "\n",
    "    for current_ensemble_size in range(1, MAX_ENSEMBLE_SIZE + 1):\n",
    "        np.random.seed(current_ensemble_size)\n",
    "        idx = np.random.choice(\n",
    "            5,\n",
    "            size=(BOOTSTRAP_SIZE, current_ensemble_size),\n",
    "        )\n",
    "\n",
    "        idx_mapped = np.array(\n",
    "            [\n",
    "                np.array(\n",
    "                    [pool_predictions_val_fold[f'{MODEL_NAME}_prediction_{k}'] for k in j]\n",
    "                )\n",
    "                for j in idx\n",
    "            ]\n",
    "        )\n",
    "\n",
    "        ensemble_predictions = np.array(\n",
    "            [np.sum(j, axis=0) / len(j) for j in idx_mapped]\n",
    "        )\n",
    "\n",
    "        print('测一下')\n",
    "        print(ensemble_predictions[0])\n",
    "        print(len(y_val_fold))\n",
    "        ensemble_scores = [\n",
    "            compute_metrics(y_val_fold, pred) for pred in ensemble_predictions\n",
    "        ]\n",
    "\n",
    "\n",
    "        df_ensemble_scores = pd.DataFrame(ensemble_scores).sort_index(axis=1)\n"
   ]
  },
  {
   "cell_type": "code",
   "execution_count": null,
   "id": "e8b12215-f34a-466b-9c72-d0e6075753ef",
   "metadata": {},
   "outputs": [],
   "source": []
  },
  {
   "cell_type": "code",
   "execution_count": null,
   "id": "597309e1-a6bc-4178-ba7d-d5d5fe51b719",
   "metadata": {},
   "outputs": [],
   "source": []
  },
  {
   "cell_type": "code",
   "execution_count": null,
   "id": "1643a75d-3417-40f1-ab54-1c0aabde1fae",
   "metadata": {},
   "outputs": [],
   "source": [
    "\n",
    "for fold, (train_idx, val_idx) in enumerate(KFold(n_splits=N_FOLDS).split(df_train)):\n",
    "    df_train_folds = df_train.loc[train_idx]\n",
    "    df_val_fold = df_train.loc[val_idx]\n",
    "    # fill na with mean of columns of train data\n",
    "    df_train_folds = df_train_folds.fillna(df_train_folds.mean(numeric_only=True))\n",
    "    df_val_fold = df_val_fold.fillna(df_train_folds.mean(numeric_only=True))\n",
    "\n",
    "    y_val_fold = df_val_fold['MOS'].values\n",
    "\n",
    "    pool_predictions_val_fold = get_predictions(df_train_folds, df_val_fold)\n",
    "\n",
    "    for current_ensemble_size in range(1, MAX_ENSEMBLE_SIZE + 1):\n",
    "        np.random.seed(current_ensemble_size)\n",
    "        idx = np.random.choice(\n",
    "            ENSEMBLE_POOL_SIZE,\n",
    "            size=(BOOTSTRAP_SIZE, current_ensemble_size),\n",
    "        )\n",
    "\n",
    "        idx_mapped = np.array(\n",
    "            [\n",
    "                np.array(\n",
    "                    [pool_predictions_val_fold[f'{MODEL_NAME}_prediction_{k}'] for k in j]\n",
    "                )\n",
    "                for j in idx\n",
    "            ]\n",
    "        )\n",
    "\n",
    "        ensemble_predictions = np.array(\n",
    "            [np.sum(j, axis=0) / len(j) for j in idx_mapped]\n",
    "        )\n",
    "\n",
    "        print('测一下')\n",
    "        print(ensemble_predictions[0:5])\n",
    "        print(y_val_fold[0:5])\n",
    "        \n",
    "        ensemble_scores = [\n",
    "            compute_metrics(y_val_fold, pred) for pred in ensemble_predictions\n",
    "        ]\n",
    "\n",
    "        df_ensemble_scores = pd.DataFrame(ensemble_scores).sort_index(axis=1)\n",
    "\n",
    "        # add to dataframe\n",
    "        df_macro_ensemble_scores = df_macro_ensemble_scores._append(\n",
    "            {\n",
    "                'ensemble_size': current_ensemble_size,\n",
    "                'model_name': MODEL_NAME,\n",
    "                'mean_absolute_error_mean': df_ensemble_scores[\n",
    "                    'mean_absolute_error'\n",
    "                ].mean(),\n",
    "                'mean_absolute_error_std': df_ensemble_scores[\n",
    "                    'mean_absolute_error'\n",
    "                ].std(),\n",
    "                'mean_squared_error_mean': df_ensemble_scores[\n",
    "                    'mean_squared_error'\n",
    "                ].mean(),\n",
    "                'mean_squared_error_std': df_ensemble_scores[\n",
    "                    'mean_squared_error'\n",
    "                ].std(),\n",
    "                'root_mean_squared_error_mean': df_ensemble_scores[\n",
    "                    'root_mean_squared_error'\n",
    "                ].mean(),\n",
    "                'root_mean_squared_error_std': df_ensemble_scores[\n",
    "                    'root_mean_squared_error'\n",
    "                ].std(),\n",
    "            },\n",
    "            ignore_index=True,\n",
    "        )\n",
    "\n",
    "\n",
    "# write to csv for each model_name\n",
    "df_macro_ensemble_scores[\n",
    "    df_macro_ensemble_scores['model_name'] == MODEL_NAME\n",
    "    ].to_csv(\n",
    "    f'ensemble_scores_{MODEL_NAME}.csv', index=False, sep=',', encoding='utf-8'\n",
    ")\n"
   ]
  },
  {
   "cell_type": "code",
   "execution_count": null,
   "id": "b97a19dc-0fd1-42c6-8374-52dfecd53b33",
   "metadata": {},
   "outputs": [],
   "source": []
  },
  {
   "cell_type": "code",
   "execution_count": null,
   "id": "0a85218d-a478-4e28-8e7b-07089202b22b",
   "metadata": {},
   "outputs": [],
   "source": []
  },
  {
   "cell_type": "code",
   "execution_count": null,
   "id": "a1b9831e-4a36-44a2-ae19-985593492f83",
   "metadata": {},
   "outputs": [],
   "source": []
  },
  {
   "cell_type": "code",
   "execution_count": null,
   "id": "f24f6fa1-4030-4dce-8e43-bbefd1718f33",
   "metadata": {},
   "outputs": [],
   "source": [
    "\n",
    "for fold, (train_idx, val_idx) in enumerate(KFold(n_splits=N_FOLDS).split(df_train)):\n",
    "    df_train_folds = df_train.loc[train_idx]\n",
    "    df_val_fold = df_train.loc[val_idx]\n",
    "    # fill na with mean of columns of train data\n",
    "    df_train_folds = df_train_folds.fillna(df_train_folds.mean(numeric_only=True))\n",
    "    df_val_fold = df_val_fold.fillna(df_train_folds.mean(numeric_only=True))\n",
    "\n",
    "    y_val_fold = df_val_fold['MOS'].values\n",
    "\n",
    "    pool_predictions_val_fold = get_predictions(df_train_folds, df_val_fold)\n",
    "\n",
    "    for current_ensemble_size in range(1, MAX_ENSEMBLE_SIZE + 1):\n",
    "        np.random.seed(current_ensemble_size)\n",
    "        idx = np.random.choice(\n",
    "            ENSEMBLE_POOL_SIZE,\n",
    "            size=(BOOTSTRAP_SIZE, current_ensemble_size),\n",
    "        )\n",
    "\n",
    "        idx_mapped = np.array(\n",
    "            [\n",
    "                np.array(\n",
    "                    [pool_predictions_val_fold[f'{MODEL_NAME}_prediction_{k}'] for k in j]\n",
    "                )\n",
    "                for j in idx\n",
    "            ]\n",
    "        )\n",
    "\n",
    "        ensemble_predictions = np.array(\n",
    "            [np.sum(j, axis=0) / len(j) for j in idx_mapped]\n",
    "        )\n",
    "\n",
    "        print('测一下')\n",
    "        print(ensemble_predictions[0:5])\n",
    "        print(y_val_fold[0:5])\n",
    "        ensemble_scores = [\n",
    "            compute_metrics(y_val_fold, pred) for pred in ensemble_predictions\n",
    "        ]\n",
    "\n",
    "        df_ensemble_scores = pd.DataFrame(ensemble_scores).sort_index(axis=1)\n",
    "\n",
    "        # add to dataframe\n",
    "        df_macro_ensemble_scores = df_macro_ensemble_scores._append(\n",
    "            {\n",
    "                'ensemble_size': current_ensemble_size,\n",
    "                'model_name': MODEL_NAME,\n",
    "                'mean_absolute_error_mean': df_ensemble_scores[\n",
    "                    'mean_absolute_error'\n",
    "                ].mean(),\n",
    "                'mean_absolute_error_std': df_ensemble_scores[\n",
    "                    'mean_absolute_error'\n",
    "                ].std(),\n",
    "                'mean_squared_error_mean': df_ensemble_scores[\n",
    "                    'mean_squared_error'\n",
    "                ].mean(),\n",
    "                'mean_squared_error_std': df_ensemble_scores[\n",
    "                    'mean_squared_error'\n",
    "                ].std(),\n",
    "                'root_mean_squared_error_mean': df_ensemble_scores[\n",
    "                    'root_mean_squared_error'\n",
    "                ].mean(),\n",
    "                'root_mean_squared_error_std': df_ensemble_scores[\n",
    "                    'root_mean_squared_error'\n",
    "                ].std(),\n",
    "            },\n",
    "            ignore_index=True,\n",
    "        )\n",
    "\n",
    "\n",
    "# write to csv for each model_name\n",
    "df_macro_ensemble_scores[\n",
    "    df_macro_ensemble_scores['model_name'] == MODEL_NAME\n",
    "    ].to_csv(\n",
    "    f'ensemble_scores_{MODEL_NAME}.csv', index=False, sep=',', encoding='utf-8'\n",
    ")\n"
   ]
  },
  {
   "cell_type": "code",
   "execution_count": null,
   "id": "f45c7682-d80c-46f1-8d53-f9b995181985",
   "metadata": {},
   "outputs": [],
   "source": []
  },
  {
   "cell_type": "code",
   "execution_count": null,
   "id": "9c30a174-9b9e-4138-ae81-57a7227df6f4",
   "metadata": {},
   "outputs": [],
   "source": []
  },
  {
   "cell_type": "code",
   "execution_count": null,
   "id": "22ecee4f-ca7f-4963-9301-3d01a56a00cd",
   "metadata": {},
   "outputs": [],
   "source": []
  },
  {
   "cell_type": "code",
   "execution_count": null,
   "id": "35367013-79da-4130-8935-b2e4212fb832",
   "metadata": {},
   "outputs": [],
   "source": []
  },
  {
   "cell_type": "code",
   "execution_count": null,
   "id": "3c79016d-5d4c-4bfe-b55e-38a254f9d1ed",
   "metadata": {},
   "outputs": [],
   "source": []
  },
  {
   "cell_type": "code",
   "execution_count": null,
   "id": "d5e19ad9-c90d-4721-95ea-32b50b260016",
   "metadata": {},
   "outputs": [],
   "source": []
  },
  {
   "cell_type": "code",
   "execution_count": null,
   "id": "78577e8a-be37-4024-b4dd-c0ad749c0e22",
   "metadata": {},
   "outputs": [],
   "source": []
  }
 ],
 "metadata": {
  "kernelspec": {
   "display_name": "Python 3 (ipykernel)",
   "language": "python",
   "name": "python3"
  },
  "language_info": {
   "codemirror_mode": {
    "name": "ipython",
    "version": 3
   },
   "file_extension": ".py",
   "mimetype": "text/x-python",
   "name": "python",
   "nbconvert_exporter": "python",
   "pygments_lexer": "ipython3",
   "version": "3.12.3"
  }
 },
 "nbformat": 4,
 "nbformat_minor": 5
}
